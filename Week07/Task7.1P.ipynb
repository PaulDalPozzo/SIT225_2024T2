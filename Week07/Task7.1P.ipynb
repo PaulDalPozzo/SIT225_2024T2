{
 "cells": [
  {
   "cell_type": "markdown",
   "metadata": {},
   "source": [
    "# SIT225: Task 7.1 P"
   ]
  },
  {
   "cell_type": "code",
   "execution_count": 81,
   "metadata": {},
   "outputs": [
    {
     "name": "stdout",
     "output_type": "stream",
     "text": [
      "s214527809 Paul Dal Pozzo\n"
     ]
    }
   ],
   "source": [
    "# Fill in student ID and name\n",
    "student_id = \"s214527809\"\n",
    "student_first_last_name = \"Paul Dal Pozzo\"\n",
    "print(student_id, student_first_last_name)"
   ]
  },
  {
   "cell_type": "markdown",
   "metadata": {},
   "source": [
    "### Installs"
   ]
  },
  {
   "cell_type": "code",
   "execution_count": 3,
   "metadata": {},
   "outputs": [
    {
     "name": "stdout",
     "output_type": "stream",
     "text": [
      "Requirement already satisfied: pandas in c:\\users\\user\\anaconda3\\lib\\site-packages (2.2.2)\n",
      "Requirement already satisfied: numpy in c:\\users\\user\\anaconda3\\lib\\site-packages (1.26.4)\n",
      "Requirement already satisfied: seaborn in c:\\users\\user\\anaconda3\\lib\\site-packages (0.13.2)\n",
      "Requirement already satisfied: plotly in c:\\users\\user\\anaconda3\\lib\\site-packages (5.22.0)\n",
      "Requirement already satisfied: python-dateutil>=2.8.2 in c:\\users\\user\\anaconda3\\lib\\site-packages (from pandas) (2.9.0.post0)\n",
      "Requirement already satisfied: pytz>=2020.1 in c:\\users\\user\\anaconda3\\lib\\site-packages (from pandas) (2024.1)\n",
      "Requirement already satisfied: tzdata>=2022.7 in c:\\users\\user\\anaconda3\\lib\\site-packages (from pandas) (2023.3)\n",
      "Requirement already satisfied: matplotlib!=3.6.1,>=3.4 in c:\\users\\user\\anaconda3\\lib\\site-packages (from seaborn) (3.8.4)\n",
      "Requirement already satisfied: tenacity>=6.2.0 in c:\\users\\user\\anaconda3\\lib\\site-packages (from plotly) (8.2.2)\n",
      "Requirement already satisfied: packaging in c:\\users\\user\\anaconda3\\lib\\site-packages (from plotly) (23.2)\n",
      "Requirement already satisfied: contourpy>=1.0.1 in c:\\users\\user\\anaconda3\\lib\\site-packages (from matplotlib!=3.6.1,>=3.4->seaborn) (1.2.0)\n",
      "Requirement already satisfied: cycler>=0.10 in c:\\users\\user\\anaconda3\\lib\\site-packages (from matplotlib!=3.6.1,>=3.4->seaborn) (0.11.0)\n",
      "Requirement already satisfied: fonttools>=4.22.0 in c:\\users\\user\\anaconda3\\lib\\site-packages (from matplotlib!=3.6.1,>=3.4->seaborn) (4.51.0)\n",
      "Requirement already satisfied: kiwisolver>=1.3.1 in c:\\users\\user\\anaconda3\\lib\\site-packages (from matplotlib!=3.6.1,>=3.4->seaborn) (1.4.4)\n",
      "Requirement already satisfied: pillow>=8 in c:\\users\\user\\anaconda3\\lib\\site-packages (from matplotlib!=3.6.1,>=3.4->seaborn) (10.3.0)\n",
      "Requirement already satisfied: pyparsing>=2.3.1 in c:\\users\\user\\anaconda3\\lib\\site-packages (from matplotlib!=3.6.1,>=3.4->seaborn) (3.0.9)\n",
      "Requirement already satisfied: six>=1.5 in c:\\users\\user\\anaconda3\\lib\\site-packages (from python-dateutil>=2.8.2->pandas) (1.16.0)\n",
      "Note: you may need to restart the kernel to use updated packages.\n"
     ]
    }
   ],
   "source": [
    "pip install pandas numpy seaborn plotly"
   ]
  },
  {
   "cell_type": "markdown",
   "metadata": {},
   "source": [
    "### Imports"
   ]
  },
  {
   "cell_type": "code",
   "execution_count": 82,
   "metadata": {},
   "outputs": [],
   "source": [
    "import pandas as pd\n",
    "import numpy as np\n",
    "import plotly.express as px\n",
    "import plotly.graph_objects as go\n",
    "from sklearn.linear_model import LinearRegression"
   ]
  },
  {
   "cell_type": "markdown",
   "metadata": {},
   "source": [
    "## Step 1 & 2: Load Data\n",
    "\n",
    "Connect the sensor for collecting data samples for more than 30 minutes, possibly overnight, if you do not have collected so previously. The more data samples you have, the LR will have a better chance of learning patterns. \n",
    "\n",
    "Data should be available in CSV format. "
   ]
  },
  {
   "cell_type": "code",
   "execution_count": 83,
   "metadata": {},
   "outputs": [
    {
     "name": "stdout",
     "output_type": "stream",
     "text": [
      "          timestamp  temperature    humidity   heatindex\n",
      "count  1.380000e+02   138.000000  138.000000  138.000000\n",
      "mean   2.024072e+13    18.086957   51.702899   17.301087\n",
      "std    4.286612e+05     1.537456    3.619512    1.653268\n",
      "min    2.024072e+13    15.500000   45.000000   14.460000\n",
      "25%    2.024072e+13    16.800000   50.000000   15.882500\n",
      "50%    2.024072e+13    18.200000   52.000000   17.515000\n",
      "75%    2.024072e+13    19.300000   53.000000   18.605000\n",
      "max    2.024072e+13    21.400000   63.000000   20.770000\n"
     ]
    }
   ],
   "source": [
    "dht22_data = pd.read_csv(\"tempHumData.csv\", header=0, sep=\",\")\n",
    "print (dht22_data.describe())"
   ]
  },
  {
   "cell_type": "markdown",
   "metadata": {},
   "source": [
    "## Step 3: Linear Regression Model\n",
    "\n",
    "Create LinearRegression model from sklearn.\n",
    "\n",
    "Train with your data points (by calling model’s fit(X, y) function) considering temperature values as independent variable (X axis) and humidity as dependent variables (Y axis)"
   ]
  },
  {
   "cell_type": "code",
   "execution_count": 84,
   "metadata": {},
   "outputs": [
    {
     "data": {
      "text/html": [
       "<style>#sk-container-id-3 {\n",
       "  /* Definition of color scheme common for light and dark mode */\n",
       "  --sklearn-color-text: black;\n",
       "  --sklearn-color-line: gray;\n",
       "  /* Definition of color scheme for unfitted estimators */\n",
       "  --sklearn-color-unfitted-level-0: #fff5e6;\n",
       "  --sklearn-color-unfitted-level-1: #f6e4d2;\n",
       "  --sklearn-color-unfitted-level-2: #ffe0b3;\n",
       "  --sklearn-color-unfitted-level-3: chocolate;\n",
       "  /* Definition of color scheme for fitted estimators */\n",
       "  --sklearn-color-fitted-level-0: #f0f8ff;\n",
       "  --sklearn-color-fitted-level-1: #d4ebff;\n",
       "  --sklearn-color-fitted-level-2: #b3dbfd;\n",
       "  --sklearn-color-fitted-level-3: cornflowerblue;\n",
       "\n",
       "  /* Specific color for light theme */\n",
       "  --sklearn-color-text-on-default-background: var(--sg-text-color, var(--theme-code-foreground, var(--jp-content-font-color1, black)));\n",
       "  --sklearn-color-background: var(--sg-background-color, var(--theme-background, var(--jp-layout-color0, white)));\n",
       "  --sklearn-color-border-box: var(--sg-text-color, var(--theme-code-foreground, var(--jp-content-font-color1, black)));\n",
       "  --sklearn-color-icon: #696969;\n",
       "\n",
       "  @media (prefers-color-scheme: dark) {\n",
       "    /* Redefinition of color scheme for dark theme */\n",
       "    --sklearn-color-text-on-default-background: var(--sg-text-color, var(--theme-code-foreground, var(--jp-content-font-color1, white)));\n",
       "    --sklearn-color-background: var(--sg-background-color, var(--theme-background, var(--jp-layout-color0, #111)));\n",
       "    --sklearn-color-border-box: var(--sg-text-color, var(--theme-code-foreground, var(--jp-content-font-color1, white)));\n",
       "    --sklearn-color-icon: #878787;\n",
       "  }\n",
       "}\n",
       "\n",
       "#sk-container-id-3 {\n",
       "  color: var(--sklearn-color-text);\n",
       "}\n",
       "\n",
       "#sk-container-id-3 pre {\n",
       "  padding: 0;\n",
       "}\n",
       "\n",
       "#sk-container-id-3 input.sk-hidden--visually {\n",
       "  border: 0;\n",
       "  clip: rect(1px 1px 1px 1px);\n",
       "  clip: rect(1px, 1px, 1px, 1px);\n",
       "  height: 1px;\n",
       "  margin: -1px;\n",
       "  overflow: hidden;\n",
       "  padding: 0;\n",
       "  position: absolute;\n",
       "  width: 1px;\n",
       "}\n",
       "\n",
       "#sk-container-id-3 div.sk-dashed-wrapped {\n",
       "  border: 1px dashed var(--sklearn-color-line);\n",
       "  margin: 0 0.4em 0.5em 0.4em;\n",
       "  box-sizing: border-box;\n",
       "  padding-bottom: 0.4em;\n",
       "  background-color: var(--sklearn-color-background);\n",
       "}\n",
       "\n",
       "#sk-container-id-3 div.sk-container {\n",
       "  /* jupyter's `normalize.less` sets `[hidden] { display: none; }`\n",
       "     but bootstrap.min.css set `[hidden] { display: none !important; }`\n",
       "     so we also need the `!important` here to be able to override the\n",
       "     default hidden behavior on the sphinx rendered scikit-learn.org.\n",
       "     See: https://github.com/scikit-learn/scikit-learn/issues/21755 */\n",
       "  display: inline-block !important;\n",
       "  position: relative;\n",
       "}\n",
       "\n",
       "#sk-container-id-3 div.sk-text-repr-fallback {\n",
       "  display: none;\n",
       "}\n",
       "\n",
       "div.sk-parallel-item,\n",
       "div.sk-serial,\n",
       "div.sk-item {\n",
       "  /* draw centered vertical line to link estimators */\n",
       "  background-image: linear-gradient(var(--sklearn-color-text-on-default-background), var(--sklearn-color-text-on-default-background));\n",
       "  background-size: 2px 100%;\n",
       "  background-repeat: no-repeat;\n",
       "  background-position: center center;\n",
       "}\n",
       "\n",
       "/* Parallel-specific style estimator block */\n",
       "\n",
       "#sk-container-id-3 div.sk-parallel-item::after {\n",
       "  content: \"\";\n",
       "  width: 100%;\n",
       "  border-bottom: 2px solid var(--sklearn-color-text-on-default-background);\n",
       "  flex-grow: 1;\n",
       "}\n",
       "\n",
       "#sk-container-id-3 div.sk-parallel {\n",
       "  display: flex;\n",
       "  align-items: stretch;\n",
       "  justify-content: center;\n",
       "  background-color: var(--sklearn-color-background);\n",
       "  position: relative;\n",
       "}\n",
       "\n",
       "#sk-container-id-3 div.sk-parallel-item {\n",
       "  display: flex;\n",
       "  flex-direction: column;\n",
       "}\n",
       "\n",
       "#sk-container-id-3 div.sk-parallel-item:first-child::after {\n",
       "  align-self: flex-end;\n",
       "  width: 50%;\n",
       "}\n",
       "\n",
       "#sk-container-id-3 div.sk-parallel-item:last-child::after {\n",
       "  align-self: flex-start;\n",
       "  width: 50%;\n",
       "}\n",
       "\n",
       "#sk-container-id-3 div.sk-parallel-item:only-child::after {\n",
       "  width: 0;\n",
       "}\n",
       "\n",
       "/* Serial-specific style estimator block */\n",
       "\n",
       "#sk-container-id-3 div.sk-serial {\n",
       "  display: flex;\n",
       "  flex-direction: column;\n",
       "  align-items: center;\n",
       "  background-color: var(--sklearn-color-background);\n",
       "  padding-right: 1em;\n",
       "  padding-left: 1em;\n",
       "}\n",
       "\n",
       "\n",
       "/* Toggleable style: style used for estimator/Pipeline/ColumnTransformer box that is\n",
       "clickable and can be expanded/collapsed.\n",
       "- Pipeline and ColumnTransformer use this feature and define the default style\n",
       "- Estimators will overwrite some part of the style using the `sk-estimator` class\n",
       "*/\n",
       "\n",
       "/* Pipeline and ColumnTransformer style (default) */\n",
       "\n",
       "#sk-container-id-3 div.sk-toggleable {\n",
       "  /* Default theme specific background. It is overwritten whether we have a\n",
       "  specific estimator or a Pipeline/ColumnTransformer */\n",
       "  background-color: var(--sklearn-color-background);\n",
       "}\n",
       "\n",
       "/* Toggleable label */\n",
       "#sk-container-id-3 label.sk-toggleable__label {\n",
       "  cursor: pointer;\n",
       "  display: block;\n",
       "  width: 100%;\n",
       "  margin-bottom: 0;\n",
       "  padding: 0.5em;\n",
       "  box-sizing: border-box;\n",
       "  text-align: center;\n",
       "}\n",
       "\n",
       "#sk-container-id-3 label.sk-toggleable__label-arrow:before {\n",
       "  /* Arrow on the left of the label */\n",
       "  content: \"▸\";\n",
       "  float: left;\n",
       "  margin-right: 0.25em;\n",
       "  color: var(--sklearn-color-icon);\n",
       "}\n",
       "\n",
       "#sk-container-id-3 label.sk-toggleable__label-arrow:hover:before {\n",
       "  color: var(--sklearn-color-text);\n",
       "}\n",
       "\n",
       "/* Toggleable content - dropdown */\n",
       "\n",
       "#sk-container-id-3 div.sk-toggleable__content {\n",
       "  max-height: 0;\n",
       "  max-width: 0;\n",
       "  overflow: hidden;\n",
       "  text-align: left;\n",
       "  /* unfitted */\n",
       "  background-color: var(--sklearn-color-unfitted-level-0);\n",
       "}\n",
       "\n",
       "#sk-container-id-3 div.sk-toggleable__content.fitted {\n",
       "  /* fitted */\n",
       "  background-color: var(--sklearn-color-fitted-level-0);\n",
       "}\n",
       "\n",
       "#sk-container-id-3 div.sk-toggleable__content pre {\n",
       "  margin: 0.2em;\n",
       "  border-radius: 0.25em;\n",
       "  color: var(--sklearn-color-text);\n",
       "  /* unfitted */\n",
       "  background-color: var(--sklearn-color-unfitted-level-0);\n",
       "}\n",
       "\n",
       "#sk-container-id-3 div.sk-toggleable__content.fitted pre {\n",
       "  /* unfitted */\n",
       "  background-color: var(--sklearn-color-fitted-level-0);\n",
       "}\n",
       "\n",
       "#sk-container-id-3 input.sk-toggleable__control:checked~div.sk-toggleable__content {\n",
       "  /* Expand drop-down */\n",
       "  max-height: 200px;\n",
       "  max-width: 100%;\n",
       "  overflow: auto;\n",
       "}\n",
       "\n",
       "#sk-container-id-3 input.sk-toggleable__control:checked~label.sk-toggleable__label-arrow:before {\n",
       "  content: \"▾\";\n",
       "}\n",
       "\n",
       "/* Pipeline/ColumnTransformer-specific style */\n",
       "\n",
       "#sk-container-id-3 div.sk-label input.sk-toggleable__control:checked~label.sk-toggleable__label {\n",
       "  color: var(--sklearn-color-text);\n",
       "  background-color: var(--sklearn-color-unfitted-level-2);\n",
       "}\n",
       "\n",
       "#sk-container-id-3 div.sk-label.fitted input.sk-toggleable__control:checked~label.sk-toggleable__label {\n",
       "  background-color: var(--sklearn-color-fitted-level-2);\n",
       "}\n",
       "\n",
       "/* Estimator-specific style */\n",
       "\n",
       "/* Colorize estimator box */\n",
       "#sk-container-id-3 div.sk-estimator input.sk-toggleable__control:checked~label.sk-toggleable__label {\n",
       "  /* unfitted */\n",
       "  background-color: var(--sklearn-color-unfitted-level-2);\n",
       "}\n",
       "\n",
       "#sk-container-id-3 div.sk-estimator.fitted input.sk-toggleable__control:checked~label.sk-toggleable__label {\n",
       "  /* fitted */\n",
       "  background-color: var(--sklearn-color-fitted-level-2);\n",
       "}\n",
       "\n",
       "#sk-container-id-3 div.sk-label label.sk-toggleable__label,\n",
       "#sk-container-id-3 div.sk-label label {\n",
       "  /* The background is the default theme color */\n",
       "  color: var(--sklearn-color-text-on-default-background);\n",
       "}\n",
       "\n",
       "/* On hover, darken the color of the background */\n",
       "#sk-container-id-3 div.sk-label:hover label.sk-toggleable__label {\n",
       "  color: var(--sklearn-color-text);\n",
       "  background-color: var(--sklearn-color-unfitted-level-2);\n",
       "}\n",
       "\n",
       "/* Label box, darken color on hover, fitted */\n",
       "#sk-container-id-3 div.sk-label.fitted:hover label.sk-toggleable__label.fitted {\n",
       "  color: var(--sklearn-color-text);\n",
       "  background-color: var(--sklearn-color-fitted-level-2);\n",
       "}\n",
       "\n",
       "/* Estimator label */\n",
       "\n",
       "#sk-container-id-3 div.sk-label label {\n",
       "  font-family: monospace;\n",
       "  font-weight: bold;\n",
       "  display: inline-block;\n",
       "  line-height: 1.2em;\n",
       "}\n",
       "\n",
       "#sk-container-id-3 div.sk-label-container {\n",
       "  text-align: center;\n",
       "}\n",
       "\n",
       "/* Estimator-specific */\n",
       "#sk-container-id-3 div.sk-estimator {\n",
       "  font-family: monospace;\n",
       "  border: 1px dotted var(--sklearn-color-border-box);\n",
       "  border-radius: 0.25em;\n",
       "  box-sizing: border-box;\n",
       "  margin-bottom: 0.5em;\n",
       "  /* unfitted */\n",
       "  background-color: var(--sklearn-color-unfitted-level-0);\n",
       "}\n",
       "\n",
       "#sk-container-id-3 div.sk-estimator.fitted {\n",
       "  /* fitted */\n",
       "  background-color: var(--sklearn-color-fitted-level-0);\n",
       "}\n",
       "\n",
       "/* on hover */\n",
       "#sk-container-id-3 div.sk-estimator:hover {\n",
       "  /* unfitted */\n",
       "  background-color: var(--sklearn-color-unfitted-level-2);\n",
       "}\n",
       "\n",
       "#sk-container-id-3 div.sk-estimator.fitted:hover {\n",
       "  /* fitted */\n",
       "  background-color: var(--sklearn-color-fitted-level-2);\n",
       "}\n",
       "\n",
       "/* Specification for estimator info (e.g. \"i\" and \"?\") */\n",
       "\n",
       "/* Common style for \"i\" and \"?\" */\n",
       "\n",
       ".sk-estimator-doc-link,\n",
       "a:link.sk-estimator-doc-link,\n",
       "a:visited.sk-estimator-doc-link {\n",
       "  float: right;\n",
       "  font-size: smaller;\n",
       "  line-height: 1em;\n",
       "  font-family: monospace;\n",
       "  background-color: var(--sklearn-color-background);\n",
       "  border-radius: 1em;\n",
       "  height: 1em;\n",
       "  width: 1em;\n",
       "  text-decoration: none !important;\n",
       "  margin-left: 1ex;\n",
       "  /* unfitted */\n",
       "  border: var(--sklearn-color-unfitted-level-1) 1pt solid;\n",
       "  color: var(--sklearn-color-unfitted-level-1);\n",
       "}\n",
       "\n",
       ".sk-estimator-doc-link.fitted,\n",
       "a:link.sk-estimator-doc-link.fitted,\n",
       "a:visited.sk-estimator-doc-link.fitted {\n",
       "  /* fitted */\n",
       "  border: var(--sklearn-color-fitted-level-1) 1pt solid;\n",
       "  color: var(--sklearn-color-fitted-level-1);\n",
       "}\n",
       "\n",
       "/* On hover */\n",
       "div.sk-estimator:hover .sk-estimator-doc-link:hover,\n",
       ".sk-estimator-doc-link:hover,\n",
       "div.sk-label-container:hover .sk-estimator-doc-link:hover,\n",
       ".sk-estimator-doc-link:hover {\n",
       "  /* unfitted */\n",
       "  background-color: var(--sklearn-color-unfitted-level-3);\n",
       "  color: var(--sklearn-color-background);\n",
       "  text-decoration: none;\n",
       "}\n",
       "\n",
       "div.sk-estimator.fitted:hover .sk-estimator-doc-link.fitted:hover,\n",
       ".sk-estimator-doc-link.fitted:hover,\n",
       "div.sk-label-container:hover .sk-estimator-doc-link.fitted:hover,\n",
       ".sk-estimator-doc-link.fitted:hover {\n",
       "  /* fitted */\n",
       "  background-color: var(--sklearn-color-fitted-level-3);\n",
       "  color: var(--sklearn-color-background);\n",
       "  text-decoration: none;\n",
       "}\n",
       "\n",
       "/* Span, style for the box shown on hovering the info icon */\n",
       ".sk-estimator-doc-link span {\n",
       "  display: none;\n",
       "  z-index: 9999;\n",
       "  position: relative;\n",
       "  font-weight: normal;\n",
       "  right: .2ex;\n",
       "  padding: .5ex;\n",
       "  margin: .5ex;\n",
       "  width: min-content;\n",
       "  min-width: 20ex;\n",
       "  max-width: 50ex;\n",
       "  color: var(--sklearn-color-text);\n",
       "  box-shadow: 2pt 2pt 4pt #999;\n",
       "  /* unfitted */\n",
       "  background: var(--sklearn-color-unfitted-level-0);\n",
       "  border: .5pt solid var(--sklearn-color-unfitted-level-3);\n",
       "}\n",
       "\n",
       ".sk-estimator-doc-link.fitted span {\n",
       "  /* fitted */\n",
       "  background: var(--sklearn-color-fitted-level-0);\n",
       "  border: var(--sklearn-color-fitted-level-3);\n",
       "}\n",
       "\n",
       ".sk-estimator-doc-link:hover span {\n",
       "  display: block;\n",
       "}\n",
       "\n",
       "/* \"?\"-specific style due to the `<a>` HTML tag */\n",
       "\n",
       "#sk-container-id-3 a.estimator_doc_link {\n",
       "  float: right;\n",
       "  font-size: 1rem;\n",
       "  line-height: 1em;\n",
       "  font-family: monospace;\n",
       "  background-color: var(--sklearn-color-background);\n",
       "  border-radius: 1rem;\n",
       "  height: 1rem;\n",
       "  width: 1rem;\n",
       "  text-decoration: none;\n",
       "  /* unfitted */\n",
       "  color: var(--sklearn-color-unfitted-level-1);\n",
       "  border: var(--sklearn-color-unfitted-level-1) 1pt solid;\n",
       "}\n",
       "\n",
       "#sk-container-id-3 a.estimator_doc_link.fitted {\n",
       "  /* fitted */\n",
       "  border: var(--sklearn-color-fitted-level-1) 1pt solid;\n",
       "  color: var(--sklearn-color-fitted-level-1);\n",
       "}\n",
       "\n",
       "/* On hover */\n",
       "#sk-container-id-3 a.estimator_doc_link:hover {\n",
       "  /* unfitted */\n",
       "  background-color: var(--sklearn-color-unfitted-level-3);\n",
       "  color: var(--sklearn-color-background);\n",
       "  text-decoration: none;\n",
       "}\n",
       "\n",
       "#sk-container-id-3 a.estimator_doc_link.fitted:hover {\n",
       "  /* fitted */\n",
       "  background-color: var(--sklearn-color-fitted-level-3);\n",
       "}\n",
       "</style><div id=\"sk-container-id-3\" class=\"sk-top-container\"><div class=\"sk-text-repr-fallback\"><pre>LinearRegression()</pre><b>In a Jupyter environment, please rerun this cell to show the HTML representation or trust the notebook. <br />On GitHub, the HTML representation is unable to render, please try loading this page with nbviewer.org.</b></div><div class=\"sk-container\" hidden><div class=\"sk-item\"><div class=\"sk-estimator fitted sk-toggleable\"><input class=\"sk-toggleable__control sk-hidden--visually\" id=\"sk-estimator-id-3\" type=\"checkbox\" checked><label for=\"sk-estimator-id-3\" class=\"sk-toggleable__label fitted sk-toggleable__label-arrow fitted\">&nbsp;&nbsp;LinearRegression<a class=\"sk-estimator-doc-link fitted\" rel=\"noreferrer\" target=\"_blank\" href=\"https://scikit-learn.org/1.4/modules/generated/sklearn.linear_model.LinearRegression.html\">?<span>Documentation for LinearRegression</span></a><span class=\"sk-estimator-doc-link fitted\">i<span>Fitted</span></span></label><div class=\"sk-toggleable__content fitted\"><pre>LinearRegression()</pre></div> </div></div></div></div>"
      ],
      "text/plain": [
       "LinearRegression()"
      ]
     },
     "execution_count": 84,
     "metadata": {},
     "output_type": "execute_result"
    }
   ],
   "source": [
    "# save data to dataframe\n",
    "df = dht22_data\n",
    "# reshape the temperature values of the dataframe\n",
    "X = df.temperature.values.reshape(-1, 1)\n",
    "\n",
    "# create Linear Regression\n",
    "model = LinearRegression()\n",
    "# train model with humidity data\n",
    "model.fit(X, df.humidity)"
   ]
  },
  {
   "cell_type": "markdown",
   "metadata": {},
   "source": [
    "## Step 4: Create Test Data\n",
    "\n",
    "Find the min and max temperature values and interpolate to create 100 equally distant temperature values in between, which will be the test temperature values, and predict humidity for all 100 test temperature values. "
   ]
  },
  {
   "cell_type": "code",
   "execution_count": 85,
   "metadata": {},
   "outputs": [
    {
     "name": "stdout",
     "output_type": "stream",
     "text": [
      "Minimum Temperature: 15.5, Maximum Temperature: 21.4\n"
     ]
    }
   ],
   "source": [
    "# find the min and max temperature\n",
    "minTemp: float = X.min()\n",
    "maxTemp: float = X.max()\n",
    "print ('Minimum Temperature: {0}, Maximum Temperature: {1}'.format(minTemp, maxTemp))\n"
   ]
  },
  {
   "cell_type": "code",
   "execution_count": 86,
   "metadata": {},
   "outputs": [
    {
     "name": "stdout",
     "output_type": "stream",
     "text": [
      "[15.5        15.55959596 15.61919192 15.67878788 15.73838384 15.7979798\n",
      " 15.85757576 15.91717172 15.97676768 16.03636364 16.0959596  16.15555556\n",
      " 16.21515152 16.27474747 16.33434343 16.39393939 16.45353535 16.51313131\n",
      " 16.57272727 16.63232323 16.69191919 16.75151515 16.81111111 16.87070707\n",
      " 16.93030303 16.98989899 17.04949495 17.10909091 17.16868687 17.22828283\n",
      " 17.28787879 17.34747475 17.40707071 17.46666667 17.52626263 17.58585859\n",
      " 17.64545455 17.70505051 17.76464646 17.82424242 17.88383838 17.94343434\n",
      " 18.0030303  18.06262626 18.12222222 18.18181818 18.24141414 18.3010101\n",
      " 18.36060606 18.42020202 18.47979798 18.53939394 18.5989899  18.65858586\n",
      " 18.71818182 18.77777778 18.83737374 18.8969697  18.95656566 19.01616162\n",
      " 19.07575758 19.13535354 19.19494949 19.25454545 19.31414141 19.37373737\n",
      " 19.43333333 19.49292929 19.55252525 19.61212121 19.67171717 19.73131313\n",
      " 19.79090909 19.85050505 19.91010101 19.96969697 20.02929293 20.08888889\n",
      " 20.14848485 20.20808081 20.26767677 20.32727273 20.38686869 20.44646465\n",
      " 20.50606061 20.56565657 20.62525253 20.68484848 20.74444444 20.8040404\n",
      " 20.86363636 20.92323232 20.98282828 21.04242424 21.1020202  21.16161616\n",
      " 21.22121212 21.28080808 21.34040404 21.4       ]\n"
     ]
    }
   ],
   "source": [
    "# create 100 random temperture values between the min and max\n",
    "testTemp = np.linspace(minTemp, maxTemp, 100)\n",
    "print(testTemp)"
   ]
  },
  {
   "cell_type": "code",
   "execution_count": 87,
   "metadata": {},
   "outputs": [
    {
     "name": "stdout",
     "output_type": "stream",
     "text": [
      "[54.27146771 54.21229534 54.15312297 54.09395061 54.03477824 53.97560587\n",
      " 53.9164335  53.85726113 53.79808877 53.7389164  53.67974403 53.62057166\n",
      " 53.56139929 53.50222692 53.44305456 53.38388219 53.32470982 53.26553745\n",
      " 53.20636508 53.14719271 53.08802035 53.02884798 52.96967561 52.91050324\n",
      " 52.85133087 52.79215851 52.73298614 52.67381377 52.6146414  52.55546903\n",
      " 52.49629666 52.4371243  52.37795193 52.31877956 52.25960719 52.20043482\n",
      " 52.14126245 52.08209009 52.02291772 51.96374535 51.90457298 51.84540061\n",
      " 51.78622825 51.72705588 51.66788351 51.60871114 51.54953877 51.4903664\n",
      " 51.43119404 51.37202167 51.3128493  51.25367693 51.19450456 51.13533219\n",
      " 51.07615983 51.01698746 50.95781509 50.89864272 50.83947035 50.78029799\n",
      " 50.72112562 50.66195325 50.60278088 50.54360851 50.48443614 50.42526378\n",
      " 50.36609141 50.30691904 50.24774667 50.1885743  50.12940193 50.07022957\n",
      " 50.0110572  49.95188483 49.89271246 49.83354009 49.77436773 49.71519536\n",
      " 49.65602299 49.59685062 49.53767825 49.47850588 49.41933352 49.36016115\n",
      " 49.30098878 49.24181641 49.18264404 49.12347167 49.06429931 49.00512694\n",
      " 48.94595457 48.8867822  48.82760983 48.76843747 48.7092651  48.65009273\n",
      " 48.59092036 48.53174799 48.47257562 48.41340326]\n"
     ]
    }
   ],
   "source": [
    "# predict humidity\n",
    "predictHumidity = model.predict(testTemp.reshape(-1, 1))\n",
    "print(predictHumidity)"
   ]
  },
  {
   "cell_type": "markdown",
   "metadata": {},
   "source": [
    "## Step 5: Create Scatter Plot\n",
    "\n",
    "Scatter plot temperature vs humidity of your data. On the same plot, create a line-plot of your test temperature and humidity which will show the trend of temperature and humidity. Analyse the trend line and comment on below points:\n",
    "\n",
    "- The trend line follows the original data points? \n",
    "- Can you find any outlier in the sample points? Outliers are sample points which are farther apart from the trend lines. "
   ]
  },
  {
   "cell_type": "code",
   "execution_count": 88,
   "metadata": {},
   "outputs": [
    {
     "name": "stdout",
     "output_type": "stream",
     "text": [
      "    temperature   humidity\n",
      "0     15.500000  54.271468\n",
      "1     15.559596  54.212295\n",
      "2     15.619192  54.153123\n",
      "3     15.678788  54.093951\n",
      "4     15.738384  54.034778\n",
      "..          ...        ...\n",
      "95    21.161616  48.650093\n",
      "96    21.221212  48.590920\n",
      "97    21.280808  48.531748\n",
      "98    21.340404  48.472576\n",
      "99    21.400000  48.413403\n",
      "\n",
      "[100 rows x 2 columns]\n"
     ]
    }
   ],
   "source": [
    "testData = {'temperature': testTemp, 'humidity': predictHumidity}\n",
    "testDF = pd.DataFrame(data=testData)\n",
    "print(testDF)"
   ]
  },
  {
   "cell_type": "code",
   "execution_count": 89,
   "metadata": {},
   "outputs": [
    {
     "data": {
      "application/vnd.plotly.v1+json": {
       "config": {
        "plotlyServerURL": "https://plot.ly"
       },
       "data": [
        {
         "hovertemplate": "temperature=%{x}<br>humidity=%{y}<extra></extra>",
         "legendgroup": "",
         "marker": {
          "color": "#636efa",
          "opacity": 0.65,
          "symbol": "circle"
         },
         "mode": "markers",
         "name": "",
         "orientation": "v",
         "showlegend": false,
         "type": "scatter",
         "x": [
          18.7,
          18.7,
          18.7,
          18.7,
          18.6,
          18.4,
          18.3,
          18.2,
          18.1,
          18.1,
          18,
          18,
          18.1,
          18.2,
          18.4,
          18.6,
          18.8,
          18.9,
          19.1,
          19.2,
          19.3,
          19.3,
          19.5,
          19.6,
          19.7,
          19.8,
          19.8,
          19.9,
          19.9,
          19.9,
          20,
          20.1,
          20.1,
          20,
          19.9,
          19.8,
          19.7,
          19.7,
          19.6,
          19.4,
          19.3,
          19.1,
          18.9,
          18.8,
          18.6,
          18.5,
          18.3,
          18.2,
          18.1,
          18,
          17.9,
          17.8,
          17.7,
          17.6,
          17.5,
          17.5,
          17.4,
          17.3,
          17.3,
          17.2,
          17.1,
          17.1,
          17,
          16.9,
          16.9,
          16.8,
          16.8,
          16.7,
          16.6,
          16.6,
          16.5,
          16.4,
          16.4,
          16.3,
          16.3,
          16.2,
          16.2,
          16.1,
          16.1,
          16,
          16,
          15.9,
          15.9,
          15.8,
          15.8,
          15.8,
          15.7,
          15.7,
          15.6,
          15.6,
          15.6,
          15.5,
          15.5,
          15.5,
          15.6,
          15.7,
          16,
          16.3,
          16.5,
          16.6,
          16.7,
          16.8,
          16.9,
          17,
          17.2,
          17.4,
          17.5,
          17.6,
          17.7,
          17.9,
          18,
          18.2,
          18.4,
          18.5,
          18.5,
          18.6,
          18.8,
          18.9,
          19,
          19.1,
          19.1,
          19.2,
          19.3,
          19.5,
          19.8,
          20,
          20.1,
          20.3,
          20.4,
          20.4,
          20.4,
          20.5,
          20.5,
          20.5,
          20.6,
          20.9,
          21,
          21.4
         ],
         "xaxis": "x",
         "y": [
          63,
          63,
          62,
          61,
          61,
          60,
          60,
          60,
          60,
          59,
          59,
          58,
          57,
          56,
          55,
          54,
          53,
          53,
          52,
          52,
          51,
          52,
          51,
          51,
          52,
          52,
          52,
          52,
          51,
          51,
          50,
          50,
          49,
          49,
          49,
          49,
          49,
          48,
          48,
          49,
          49,
          50,
          50,
          50,
          51,
          51,
          51,
          51,
          51,
          52,
          52,
          52,
          52,
          52,
          52,
          52,
          52,
          53,
          53,
          53,
          53,
          53,
          53,
          53,
          53,
          53,
          53,
          53,
          53,
          53,
          53,
          53,
          53,
          53,
          53,
          53,
          53,
          53,
          53,
          53,
          53,
          53,
          53,
          53,
          53,
          53,
          53,
          53,
          53,
          53,
          53,
          53,
          52,
          52,
          52,
          52,
          51,
          51,
          51,
          51,
          51,
          51,
          51,
          51,
          51,
          51,
          51,
          51,
          50,
          50,
          50,
          50,
          50,
          50,
          50,
          49,
          49,
          49,
          48,
          48,
          48,
          48,
          48,
          48,
          47,
          47,
          46,
          46,
          46,
          46,
          46,
          46,
          46,
          46,
          45,
          45,
          45,
          45
         ],
         "yaxis": "y"
        },
        {
         "mode": "markers",
         "name": "Test Data",
         "type": "scatter",
         "x": [
          15.5,
          15.55959595959596,
          15.61919191919192,
          15.67878787878788,
          15.738383838383838,
          15.797979797979798,
          15.857575757575757,
          15.917171717171717,
          15.976767676767677,
          16.036363636363635,
          16.095959595959595,
          16.155555555555555,
          16.215151515151515,
          16.274747474747475,
          16.334343434343435,
          16.393939393939394,
          16.453535353535354,
          16.513131313131314,
          16.572727272727274,
          16.63232323232323,
          16.69191919191919,
          16.75151515151515,
          16.81111111111111,
          16.87070707070707,
          16.93030303030303,
          16.98989898989899,
          17.04949494949495,
          17.10909090909091,
          17.16868686868687,
          17.22828282828283,
          17.28787878787879,
          17.34747474747475,
          17.407070707070705,
          17.466666666666665,
          17.526262626262625,
          17.585858585858585,
          17.645454545454545,
          17.705050505050504,
          17.764646464646464,
          17.824242424242424,
          17.883838383838384,
          17.943434343434344,
          18.003030303030304,
          18.06262626262626,
          18.12222222222222,
          18.18181818181818,
          18.24141414141414,
          18.3010101010101,
          18.36060606060606,
          18.42020202020202,
          18.47979797979798,
          18.53939393939394,
          18.5989898989899,
          18.65858585858586,
          18.71818181818182,
          18.77777777777778,
          18.83737373737374,
          18.896969696969695,
          18.956565656565655,
          19.016161616161614,
          19.075757575757574,
          19.135353535353534,
          19.194949494949494,
          19.254545454545454,
          19.314141414141414,
          19.373737373737374,
          19.433333333333334,
          19.492929292929293,
          19.55252525252525,
          19.61212121212121,
          19.67171717171717,
          19.73131313131313,
          19.79090909090909,
          19.85050505050505,
          19.91010101010101,
          19.96969696969697,
          20.02929292929293,
          20.08888888888889,
          20.14848484848485,
          20.20808080808081,
          20.267676767676768,
          20.327272727272728,
          20.386868686868688,
          20.446464646464644,
          20.506060606060604,
          20.565656565656564,
          20.625252525252524,
          20.684848484848484,
          20.744444444444444,
          20.804040404040403,
          20.863636363636363,
          20.923232323232323,
          20.982828282828283,
          21.04242424242424,
          21.1020202020202,
          21.16161616161616,
          21.22121212121212,
          21.28080808080808,
          21.34040404040404,
          21.4
         ],
         "y": [
          54.27146771138774,
          54.212295343150416,
          54.15312297491309,
          54.09395060667576,
          54.034778238438435,
          53.9756058702011,
          53.91643350196377,
          53.857261133726446,
          53.79808876548911,
          53.738916397251785,
          53.67974402901446,
          53.62057166077713,
          53.561399292539804,
          53.50222692430248,
          53.44305455606514,
          53.383882187827815,
          53.32470981959048,
          53.265537451353154,
          53.20636508311583,
          53.1471927148785,
          53.08802034664117,
          53.028847978403846,
          52.96967561016652,
          52.91050324192919,
          52.85133087369186,
          52.79215850545453,
          52.732986137217196,
          52.67381376897987,
          52.61464140074254,
          52.555469032505215,
          52.49629666426789,
          52.43712429603056,
          52.377951927793234,
          52.31877955955591,
          52.25960719131857,
          52.200434823081245,
          52.14126245484391,
          52.082090086606584,
          52.02291771836926,
          51.96374535013193,
          51.9045729818946,
          51.845400613657276,
          51.78622824541994,
          51.72705587718262,
          51.66788350894529,
          51.60871114070796,
          51.549538772470626,
          51.4903664042333,
          51.43119403599597,
          51.372021667758645,
          51.31284929952132,
          51.25367693128399,
          51.19450456304666,
          51.13533219480933,
          51.076159826571995,
          51.01698745833467,
          50.95781509009734,
          50.898642721860014,
          50.83947035362269,
          50.78029798538536,
          50.72112561714803,
          50.661953248910706,
          50.60278088067337,
          50.543608512436045,
          50.48443614419871,
          50.42526377596138,
          50.366091407724056,
          50.30691903948673,
          50.2477466712494,
          50.188574303012075,
          50.12940193477475,
          50.07022956653742,
          50.01105719830009,
          49.95188483006276,
          49.892712461825425,
          49.8335400935881,
          49.77436772535077,
          49.715195357113444,
          49.65602298887612,
          49.59685062063879,
          49.537678252401456,
          49.47850588416413,
          49.419333515926795,
          49.360161147689475,
          49.30098877945214,
          49.24181641121481,
          49.182644042977486,
          49.12347167474016,
          49.06429930650283,
          49.005126938265505,
          48.94595457002817,
          48.886782201790844,
          48.82760983355351,
          48.76843746531619,
          48.709265097078855,
          48.65009272884153,
          48.5909203606042,
          48.531747992366874,
          48.47257562412955,
          48.41340325589222
         ]
        },
        {
         "name": "Test Data Fit",
         "type": "scatter",
         "x": [
          15.5,
          15.55959595959596,
          15.61919191919192,
          15.67878787878788,
          15.738383838383838,
          15.797979797979798,
          15.857575757575757,
          15.917171717171717,
          15.976767676767677,
          16.036363636363635,
          16.095959595959595,
          16.155555555555555,
          16.215151515151515,
          16.274747474747475,
          16.334343434343435,
          16.393939393939394,
          16.453535353535354,
          16.513131313131314,
          16.572727272727274,
          16.63232323232323,
          16.69191919191919,
          16.75151515151515,
          16.81111111111111,
          16.87070707070707,
          16.93030303030303,
          16.98989898989899,
          17.04949494949495,
          17.10909090909091,
          17.16868686868687,
          17.22828282828283,
          17.28787878787879,
          17.34747474747475,
          17.407070707070705,
          17.466666666666665,
          17.526262626262625,
          17.585858585858585,
          17.645454545454545,
          17.705050505050504,
          17.764646464646464,
          17.824242424242424,
          17.883838383838384,
          17.943434343434344,
          18.003030303030304,
          18.06262626262626,
          18.12222222222222,
          18.18181818181818,
          18.24141414141414,
          18.3010101010101,
          18.36060606060606,
          18.42020202020202,
          18.47979797979798,
          18.53939393939394,
          18.5989898989899,
          18.65858585858586,
          18.71818181818182,
          18.77777777777778,
          18.83737373737374,
          18.896969696969695,
          18.956565656565655,
          19.016161616161614,
          19.075757575757574,
          19.135353535353534,
          19.194949494949494,
          19.254545454545454,
          19.314141414141414,
          19.373737373737374,
          19.433333333333334,
          19.492929292929293,
          19.55252525252525,
          19.61212121212121,
          19.67171717171717,
          19.73131313131313,
          19.79090909090909,
          19.85050505050505,
          19.91010101010101,
          19.96969696969697,
          20.02929292929293,
          20.08888888888889,
          20.14848484848485,
          20.20808080808081,
          20.267676767676768,
          20.327272727272728,
          20.386868686868688,
          20.446464646464644,
          20.506060606060604,
          20.565656565656564,
          20.625252525252524,
          20.684848484848484,
          20.744444444444444,
          20.804040404040403,
          20.863636363636363,
          20.923232323232323,
          20.982828282828283,
          21.04242424242424,
          21.1020202020202,
          21.16161616161616,
          21.22121212121212,
          21.28080808080808,
          21.34040404040404,
          21.4
         ],
         "y": [
          54.27146771138774,
          54.212295343150416,
          54.15312297491309,
          54.09395060667576,
          54.034778238438435,
          53.9756058702011,
          53.91643350196377,
          53.857261133726446,
          53.79808876548911,
          53.738916397251785,
          53.67974402901446,
          53.62057166077713,
          53.561399292539804,
          53.50222692430248,
          53.44305455606514,
          53.383882187827815,
          53.32470981959048,
          53.265537451353154,
          53.20636508311583,
          53.1471927148785,
          53.08802034664117,
          53.028847978403846,
          52.96967561016652,
          52.91050324192919,
          52.85133087369186,
          52.79215850545453,
          52.732986137217196,
          52.67381376897987,
          52.61464140074254,
          52.555469032505215,
          52.49629666426789,
          52.43712429603056,
          52.377951927793234,
          52.31877955955591,
          52.25960719131857,
          52.200434823081245,
          52.14126245484391,
          52.082090086606584,
          52.02291771836926,
          51.96374535013193,
          51.9045729818946,
          51.845400613657276,
          51.78622824541994,
          51.72705587718262,
          51.66788350894529,
          51.60871114070796,
          51.549538772470626,
          51.4903664042333,
          51.43119403599597,
          51.372021667758645,
          51.31284929952132,
          51.25367693128399,
          51.19450456304666,
          51.13533219480933,
          51.076159826571995,
          51.01698745833467,
          50.95781509009734,
          50.898642721860014,
          50.83947035362269,
          50.78029798538536,
          50.72112561714803,
          50.661953248910706,
          50.60278088067337,
          50.543608512436045,
          50.48443614419871,
          50.42526377596138,
          50.366091407724056,
          50.30691903948673,
          50.2477466712494,
          50.188574303012075,
          50.12940193477475,
          50.07022956653742,
          50.01105719830009,
          49.95188483006276,
          49.892712461825425,
          49.8335400935881,
          49.77436772535077,
          49.715195357113444,
          49.65602298887612,
          49.59685062063879,
          49.537678252401456,
          49.47850588416413,
          49.419333515926795,
          49.360161147689475,
          49.30098877945214,
          49.24181641121481,
          49.182644042977486,
          49.12347167474016,
          49.06429930650283,
          49.005126938265505,
          48.94595457002817,
          48.886782201790844,
          48.82760983355351,
          48.76843746531619,
          48.709265097078855,
          48.65009272884153,
          48.5909203606042,
          48.531747992366874,
          48.47257562412955,
          48.41340325589222
         ]
        }
       ],
       "layout": {
        "legend": {
         "tracegroupgap": 0
        },
        "template": {
         "data": {
          "bar": [
           {
            "error_x": {
             "color": "#2a3f5f"
            },
            "error_y": {
             "color": "#2a3f5f"
            },
            "marker": {
             "line": {
              "color": "#E5ECF6",
              "width": 0.5
             },
             "pattern": {
              "fillmode": "overlay",
              "size": 10,
              "solidity": 0.2
             }
            },
            "type": "bar"
           }
          ],
          "barpolar": [
           {
            "marker": {
             "line": {
              "color": "#E5ECF6",
              "width": 0.5
             },
             "pattern": {
              "fillmode": "overlay",
              "size": 10,
              "solidity": 0.2
             }
            },
            "type": "barpolar"
           }
          ],
          "carpet": [
           {
            "aaxis": {
             "endlinecolor": "#2a3f5f",
             "gridcolor": "white",
             "linecolor": "white",
             "minorgridcolor": "white",
             "startlinecolor": "#2a3f5f"
            },
            "baxis": {
             "endlinecolor": "#2a3f5f",
             "gridcolor": "white",
             "linecolor": "white",
             "minorgridcolor": "white",
             "startlinecolor": "#2a3f5f"
            },
            "type": "carpet"
           }
          ],
          "choropleth": [
           {
            "colorbar": {
             "outlinewidth": 0,
             "ticks": ""
            },
            "type": "choropleth"
           }
          ],
          "contour": [
           {
            "colorbar": {
             "outlinewidth": 0,
             "ticks": ""
            },
            "colorscale": [
             [
              0,
              "#0d0887"
             ],
             [
              0.1111111111111111,
              "#46039f"
             ],
             [
              0.2222222222222222,
              "#7201a8"
             ],
             [
              0.3333333333333333,
              "#9c179e"
             ],
             [
              0.4444444444444444,
              "#bd3786"
             ],
             [
              0.5555555555555556,
              "#d8576b"
             ],
             [
              0.6666666666666666,
              "#ed7953"
             ],
             [
              0.7777777777777778,
              "#fb9f3a"
             ],
             [
              0.8888888888888888,
              "#fdca26"
             ],
             [
              1,
              "#f0f921"
             ]
            ],
            "type": "contour"
           }
          ],
          "contourcarpet": [
           {
            "colorbar": {
             "outlinewidth": 0,
             "ticks": ""
            },
            "type": "contourcarpet"
           }
          ],
          "heatmap": [
           {
            "colorbar": {
             "outlinewidth": 0,
             "ticks": ""
            },
            "colorscale": [
             [
              0,
              "#0d0887"
             ],
             [
              0.1111111111111111,
              "#46039f"
             ],
             [
              0.2222222222222222,
              "#7201a8"
             ],
             [
              0.3333333333333333,
              "#9c179e"
             ],
             [
              0.4444444444444444,
              "#bd3786"
             ],
             [
              0.5555555555555556,
              "#d8576b"
             ],
             [
              0.6666666666666666,
              "#ed7953"
             ],
             [
              0.7777777777777778,
              "#fb9f3a"
             ],
             [
              0.8888888888888888,
              "#fdca26"
             ],
             [
              1,
              "#f0f921"
             ]
            ],
            "type": "heatmap"
           }
          ],
          "heatmapgl": [
           {
            "colorbar": {
             "outlinewidth": 0,
             "ticks": ""
            },
            "colorscale": [
             [
              0,
              "#0d0887"
             ],
             [
              0.1111111111111111,
              "#46039f"
             ],
             [
              0.2222222222222222,
              "#7201a8"
             ],
             [
              0.3333333333333333,
              "#9c179e"
             ],
             [
              0.4444444444444444,
              "#bd3786"
             ],
             [
              0.5555555555555556,
              "#d8576b"
             ],
             [
              0.6666666666666666,
              "#ed7953"
             ],
             [
              0.7777777777777778,
              "#fb9f3a"
             ],
             [
              0.8888888888888888,
              "#fdca26"
             ],
             [
              1,
              "#f0f921"
             ]
            ],
            "type": "heatmapgl"
           }
          ],
          "histogram": [
           {
            "marker": {
             "pattern": {
              "fillmode": "overlay",
              "size": 10,
              "solidity": 0.2
             }
            },
            "type": "histogram"
           }
          ],
          "histogram2d": [
           {
            "colorbar": {
             "outlinewidth": 0,
             "ticks": ""
            },
            "colorscale": [
             [
              0,
              "#0d0887"
             ],
             [
              0.1111111111111111,
              "#46039f"
             ],
             [
              0.2222222222222222,
              "#7201a8"
             ],
             [
              0.3333333333333333,
              "#9c179e"
             ],
             [
              0.4444444444444444,
              "#bd3786"
             ],
             [
              0.5555555555555556,
              "#d8576b"
             ],
             [
              0.6666666666666666,
              "#ed7953"
             ],
             [
              0.7777777777777778,
              "#fb9f3a"
             ],
             [
              0.8888888888888888,
              "#fdca26"
             ],
             [
              1,
              "#f0f921"
             ]
            ],
            "type": "histogram2d"
           }
          ],
          "histogram2dcontour": [
           {
            "colorbar": {
             "outlinewidth": 0,
             "ticks": ""
            },
            "colorscale": [
             [
              0,
              "#0d0887"
             ],
             [
              0.1111111111111111,
              "#46039f"
             ],
             [
              0.2222222222222222,
              "#7201a8"
             ],
             [
              0.3333333333333333,
              "#9c179e"
             ],
             [
              0.4444444444444444,
              "#bd3786"
             ],
             [
              0.5555555555555556,
              "#d8576b"
             ],
             [
              0.6666666666666666,
              "#ed7953"
             ],
             [
              0.7777777777777778,
              "#fb9f3a"
             ],
             [
              0.8888888888888888,
              "#fdca26"
             ],
             [
              1,
              "#f0f921"
             ]
            ],
            "type": "histogram2dcontour"
           }
          ],
          "mesh3d": [
           {
            "colorbar": {
             "outlinewidth": 0,
             "ticks": ""
            },
            "type": "mesh3d"
           }
          ],
          "parcoords": [
           {
            "line": {
             "colorbar": {
              "outlinewidth": 0,
              "ticks": ""
             }
            },
            "type": "parcoords"
           }
          ],
          "pie": [
           {
            "automargin": true,
            "type": "pie"
           }
          ],
          "scatter": [
           {
            "fillpattern": {
             "fillmode": "overlay",
             "size": 10,
             "solidity": 0.2
            },
            "type": "scatter"
           }
          ],
          "scatter3d": [
           {
            "line": {
             "colorbar": {
              "outlinewidth": 0,
              "ticks": ""
             }
            },
            "marker": {
             "colorbar": {
              "outlinewidth": 0,
              "ticks": ""
             }
            },
            "type": "scatter3d"
           }
          ],
          "scattercarpet": [
           {
            "marker": {
             "colorbar": {
              "outlinewidth": 0,
              "ticks": ""
             }
            },
            "type": "scattercarpet"
           }
          ],
          "scattergeo": [
           {
            "marker": {
             "colorbar": {
              "outlinewidth": 0,
              "ticks": ""
             }
            },
            "type": "scattergeo"
           }
          ],
          "scattergl": [
           {
            "marker": {
             "colorbar": {
              "outlinewidth": 0,
              "ticks": ""
             }
            },
            "type": "scattergl"
           }
          ],
          "scattermapbox": [
           {
            "marker": {
             "colorbar": {
              "outlinewidth": 0,
              "ticks": ""
             }
            },
            "type": "scattermapbox"
           }
          ],
          "scatterpolar": [
           {
            "marker": {
             "colorbar": {
              "outlinewidth": 0,
              "ticks": ""
             }
            },
            "type": "scatterpolar"
           }
          ],
          "scatterpolargl": [
           {
            "marker": {
             "colorbar": {
              "outlinewidth": 0,
              "ticks": ""
             }
            },
            "type": "scatterpolargl"
           }
          ],
          "scatterternary": [
           {
            "marker": {
             "colorbar": {
              "outlinewidth": 0,
              "ticks": ""
             }
            },
            "type": "scatterternary"
           }
          ],
          "surface": [
           {
            "colorbar": {
             "outlinewidth": 0,
             "ticks": ""
            },
            "colorscale": [
             [
              0,
              "#0d0887"
             ],
             [
              0.1111111111111111,
              "#46039f"
             ],
             [
              0.2222222222222222,
              "#7201a8"
             ],
             [
              0.3333333333333333,
              "#9c179e"
             ],
             [
              0.4444444444444444,
              "#bd3786"
             ],
             [
              0.5555555555555556,
              "#d8576b"
             ],
             [
              0.6666666666666666,
              "#ed7953"
             ],
             [
              0.7777777777777778,
              "#fb9f3a"
             ],
             [
              0.8888888888888888,
              "#fdca26"
             ],
             [
              1,
              "#f0f921"
             ]
            ],
            "type": "surface"
           }
          ],
          "table": [
           {
            "cells": {
             "fill": {
              "color": "#EBF0F8"
             },
             "line": {
              "color": "white"
             }
            },
            "header": {
             "fill": {
              "color": "#C8D4E3"
             },
             "line": {
              "color": "white"
             }
            },
            "type": "table"
           }
          ]
         },
         "layout": {
          "annotationdefaults": {
           "arrowcolor": "#2a3f5f",
           "arrowhead": 0,
           "arrowwidth": 1
          },
          "autotypenumbers": "strict",
          "coloraxis": {
           "colorbar": {
            "outlinewidth": 0,
            "ticks": ""
           }
          },
          "colorscale": {
           "diverging": [
            [
             0,
             "#8e0152"
            ],
            [
             0.1,
             "#c51b7d"
            ],
            [
             0.2,
             "#de77ae"
            ],
            [
             0.3,
             "#f1b6da"
            ],
            [
             0.4,
             "#fde0ef"
            ],
            [
             0.5,
             "#f7f7f7"
            ],
            [
             0.6,
             "#e6f5d0"
            ],
            [
             0.7,
             "#b8e186"
            ],
            [
             0.8,
             "#7fbc41"
            ],
            [
             0.9,
             "#4d9221"
            ],
            [
             1,
             "#276419"
            ]
           ],
           "sequential": [
            [
             0,
             "#0d0887"
            ],
            [
             0.1111111111111111,
             "#46039f"
            ],
            [
             0.2222222222222222,
             "#7201a8"
            ],
            [
             0.3333333333333333,
             "#9c179e"
            ],
            [
             0.4444444444444444,
             "#bd3786"
            ],
            [
             0.5555555555555556,
             "#d8576b"
            ],
            [
             0.6666666666666666,
             "#ed7953"
            ],
            [
             0.7777777777777778,
             "#fb9f3a"
            ],
            [
             0.8888888888888888,
             "#fdca26"
            ],
            [
             1,
             "#f0f921"
            ]
           ],
           "sequentialminus": [
            [
             0,
             "#0d0887"
            ],
            [
             0.1111111111111111,
             "#46039f"
            ],
            [
             0.2222222222222222,
             "#7201a8"
            ],
            [
             0.3333333333333333,
             "#9c179e"
            ],
            [
             0.4444444444444444,
             "#bd3786"
            ],
            [
             0.5555555555555556,
             "#d8576b"
            ],
            [
             0.6666666666666666,
             "#ed7953"
            ],
            [
             0.7777777777777778,
             "#fb9f3a"
            ],
            [
             0.8888888888888888,
             "#fdca26"
            ],
            [
             1,
             "#f0f921"
            ]
           ]
          },
          "colorway": [
           "#636efa",
           "#EF553B",
           "#00cc96",
           "#ab63fa",
           "#FFA15A",
           "#19d3f3",
           "#FF6692",
           "#B6E880",
           "#FF97FF",
           "#FECB52"
          ],
          "font": {
           "color": "#2a3f5f"
          },
          "geo": {
           "bgcolor": "white",
           "lakecolor": "white",
           "landcolor": "#E5ECF6",
           "showlakes": true,
           "showland": true,
           "subunitcolor": "white"
          },
          "hoverlabel": {
           "align": "left"
          },
          "hovermode": "closest",
          "mapbox": {
           "style": "light"
          },
          "paper_bgcolor": "white",
          "plot_bgcolor": "#E5ECF6",
          "polar": {
           "angularaxis": {
            "gridcolor": "white",
            "linecolor": "white",
            "ticks": ""
           },
           "bgcolor": "#E5ECF6",
           "radialaxis": {
            "gridcolor": "white",
            "linecolor": "white",
            "ticks": ""
           }
          },
          "scene": {
           "xaxis": {
            "backgroundcolor": "#E5ECF6",
            "gridcolor": "white",
            "gridwidth": 2,
            "linecolor": "white",
            "showbackground": true,
            "ticks": "",
            "zerolinecolor": "white"
           },
           "yaxis": {
            "backgroundcolor": "#E5ECF6",
            "gridcolor": "white",
            "gridwidth": 2,
            "linecolor": "white",
            "showbackground": true,
            "ticks": "",
            "zerolinecolor": "white"
           },
           "zaxis": {
            "backgroundcolor": "#E5ECF6",
            "gridcolor": "white",
            "gridwidth": 2,
            "linecolor": "white",
            "showbackground": true,
            "ticks": "",
            "zerolinecolor": "white"
           }
          },
          "shapedefaults": {
           "line": {
            "color": "#2a3f5f"
           }
          },
          "ternary": {
           "aaxis": {
            "gridcolor": "white",
            "linecolor": "white",
            "ticks": ""
           },
           "baxis": {
            "gridcolor": "white",
            "linecolor": "white",
            "ticks": ""
           },
           "bgcolor": "#E5ECF6",
           "caxis": {
            "gridcolor": "white",
            "linecolor": "white",
            "ticks": ""
           }
          },
          "title": {
           "x": 0.05
          },
          "xaxis": {
           "automargin": true,
           "gridcolor": "white",
           "linecolor": "white",
           "ticks": "",
           "title": {
            "standoff": 15
           },
           "zerolinecolor": "white",
           "zerolinewidth": 2
          },
          "yaxis": {
           "automargin": true,
           "gridcolor": "white",
           "linecolor": "white",
           "ticks": "",
           "title": {
            "standoff": 15
           },
           "zerolinecolor": "white",
           "zerolinewidth": 2
          }
         }
        },
        "title": {
         "text": "DHT22 Data"
        },
        "xaxis": {
         "anchor": "y",
         "domain": [
          0,
          1
         ],
         "title": {
          "text": "temperature"
         }
        },
        "yaxis": {
         "anchor": "x",
         "domain": [
          0,
          1
         ],
         "title": {
          "text": "humidity"
         }
        }
       }
      }
     },
     "metadata": {},
     "output_type": "display_data"
    }
   ],
   "source": [
    "fig = px.scatter(df, x='temperature', y='humidity', opacity=0.65, title='DHT22 Data')\n",
    "fig.add_traces(go.Scatter(x=testDF['temperature'], y=testDF['humidity'], mode='markers', name='Test Data'))\n",
    "fig.add_traces(go.Scatter(x=testTemp, y=predictHumidity, name='Test Data Fit'))\n",
    "fig.show()"
   ]
  },
  {
   "cell_type": "markdown",
   "metadata": {},
   "source": [
    "## Step 6: Clean the Data\n",
    "\n",
    "Try to filter a few of the outlying samples, possibly by removing 5-10 high temperatures and low temperatures. You can manually identify them or free to use Pandas dataframe data filter capabilities to remove samples above a maximum temperature value, as well as below a minimum temperature value. \n",
    "\n",
    "You can search Pandas filter for more detail (a quick search popped up https://www.geeksforgeeks.org/ways-to-filter-pandas-dataframe-by-column-values ). "
   ]
  },
  {
   "cell_type": "code",
   "execution_count": 90,
   "metadata": {},
   "outputs": [
    {
     "name": "stdout",
     "output_type": "stream",
     "text": [
      "          timestamp  temperature  humidity  heatindex\n",
      "91   20240719062243         15.5      53.0      14.49\n",
      "92   20240719063244         15.5      52.0      14.46\n",
      "93   20240719064244         15.5      52.0      14.46\n",
      "88   20240719055243         15.6      53.0      14.60\n",
      "89   20240719060243         15.6      53.0      14.60\n",
      "..              ...          ...       ...        ...\n",
      "133  20240719132253         20.5      46.0      19.81\n",
      "134  20240719133253         20.6      45.0      19.89\n",
      "135  20240719134253         20.9      45.0      20.22\n",
      "136  20240719135253         21.0      45.0      20.33\n",
      "137  20240719140254         21.4      45.0      20.77\n",
      "\n",
      "[138 rows x 4 columns]\n"
     ]
    }
   ],
   "source": [
    "# new dataframe to sort\n",
    "sortedData = dht22_data\n",
    "sortedData = sortedData.sort_values('temperature')\n",
    "print(sortedData)"
   ]
  },
  {
   "cell_type": "code",
   "execution_count": 91,
   "metadata": {},
   "outputs": [
    {
     "name": "stdout",
     "output_type": "stream",
     "text": [
      "138\n",
      "133\n"
     ]
    }
   ],
   "source": [
    "# copy sorted dataframe\n",
    "removedSomeData = sortedData\n",
    "\n",
    "print(len(removedSomeData))\n",
    "# remove data last 5 entries into the table\n",
    "count = 5\n",
    "while count > 0:\n",
    "    removedSomeData = removedSomeData.drop(removedSomeData.iloc[len(removedSomeData)-1].name)\n",
    "    count -= 1\n",
    "\n",
    "# printing length of dataframe to confirm removal\n",
    "print(len(removedSomeData))"
   ]
  },
  {
   "cell_type": "code",
   "execution_count": 92,
   "metadata": {},
   "outputs": [
    {
     "name": "stdout",
     "output_type": "stream",
     "text": [
      "133\n",
      "128\n"
     ]
    }
   ],
   "source": [
    "print(len(removedSomeData))\n",
    "# remove data top 5 entries into the table\n",
    "count = 5\n",
    "while count > 0:\n",
    "    removedSomeData = removedSomeData.drop(removedSomeData.iloc[count - 1].name)\n",
    "    count -= 1\n",
    "\n",
    "# printing length of dataframe to confirm removal\n",
    "print(len(removedSomeData))"
   ]
  },
  {
   "cell_type": "code",
   "execution_count": 93,
   "metadata": {},
   "outputs": [
    {
     "name": "stdout",
     "output_type": "stream",
     "text": [
      "          timestamp  temperature  humidity  heatindex\n",
      "90   20240719061243         15.6      53.0      14.60\n",
      "94   20240719065244         15.6      52.0      14.57\n",
      "87   20240719054243         15.7      53.0      14.71\n",
      "86   20240719053242         15.7      53.0      14.71\n",
      "95   20240719070244         15.7      52.0      14.68\n",
      "..              ...          ...       ...        ...\n",
      "128  20240719123252         20.4      46.0      19.70\n",
      "129  20240719124252         20.4      46.0      19.70\n",
      "130  20240719125252         20.4      46.0      19.70\n",
      "131  20240719130252         20.5      46.0      19.81\n",
      "132  20240719131252         20.5      46.0      19.81\n",
      "\n",
      "[128 rows x 4 columns]\n"
     ]
    }
   ],
   "source": [
    "# can compare to print(sortedData)\n",
    "print(removedSomeData)"
   ]
  },
  {
   "cell_type": "markdown",
   "metadata": {},
   "source": [
    "## Step 7: New Data? New Model...\n",
    "\n",
    "Repeat steps 3-5 to train LR model, create test temperature/humidity values, create plot with original training samples and trend line from test samples. Compare these 2 scenarios - \n",
    "\n",
    "The trend line is still the same or slope of the line changed a bit, did the LR model learning different pattern? Justify your answer. "
   ]
  },
  {
   "cell_type": "code",
   "execution_count": 94,
   "metadata": {},
   "outputs": [
    {
     "data": {
      "application/vnd.plotly.v1+json": {
       "config": {
        "plotlyServerURL": "https://plot.ly"
       },
       "data": [
        {
         "hovertemplate": "temperature=%{x}<br>humidity=%{y}<extra></extra>",
         "legendgroup": "",
         "marker": {
          "color": "#636efa",
          "opacity": 0.65,
          "symbol": "circle"
         },
         "mode": "markers",
         "name": "",
         "orientation": "v",
         "showlegend": false,
         "type": "scatter",
         "x": [
          15.6,
          15.6,
          15.7,
          15.7,
          15.7,
          15.8,
          15.8,
          15.8,
          15.9,
          15.9,
          16,
          16,
          16,
          16.1,
          16.1,
          16.2,
          16.2,
          16.3,
          16.3,
          16.3,
          16.4,
          16.4,
          16.5,
          16.5,
          16.6,
          16.6,
          16.6,
          16.7,
          16.7,
          16.8,
          16.8,
          16.8,
          16.9,
          16.9,
          16.9,
          17,
          17,
          17.1,
          17.1,
          17.2,
          17.2,
          17.3,
          17.3,
          17.4,
          17.4,
          17.5,
          17.5,
          17.5,
          17.6,
          17.6,
          17.7,
          17.7,
          17.8,
          17.9,
          17.9,
          18,
          18,
          18,
          18,
          18.1,
          18.1,
          18.1,
          18.1,
          18.2,
          18.2,
          18.2,
          18.2,
          18.3,
          18.3,
          18.4,
          18.4,
          18.4,
          18.5,
          18.5,
          18.5,
          18.6,
          18.6,
          18.6,
          18.6,
          18.7,
          18.7,
          18.7,
          18.7,
          18.8,
          18.8,
          18.8,
          18.9,
          18.9,
          18.9,
          19,
          19.1,
          19.1,
          19.1,
          19.1,
          19.2,
          19.2,
          19.3,
          19.3,
          19.3,
          19.3,
          19.4,
          19.5,
          19.5,
          19.6,
          19.6,
          19.7,
          19.7,
          19.7,
          19.8,
          19.8,
          19.8,
          19.8,
          19.9,
          19.9,
          19.9,
          19.9,
          20,
          20,
          20,
          20.1,
          20.1,
          20.1,
          20.3,
          20.4,
          20.4,
          20.4,
          20.5,
          20.5
         ],
         "xaxis": "x",
         "y": [
          53,
          52,
          53,
          53,
          52,
          53,
          53,
          53,
          53,
          53,
          53,
          53,
          51,
          53,
          53,
          53,
          53,
          53,
          53,
          51,
          53,
          53,
          53,
          51,
          53,
          53,
          51,
          51,
          53,
          53,
          53,
          51,
          53,
          51,
          53,
          51,
          53,
          53,
          53,
          53,
          51,
          53,
          53,
          51,
          52,
          52,
          51,
          52,
          51,
          52,
          52,
          50,
          52,
          52,
          50,
          58,
          59,
          50,
          52,
          51,
          59,
          60,
          57,
          51,
          50,
          60,
          56,
          51,
          60,
          60,
          50,
          55,
          50,
          51,
          50,
          61,
          51,
          49,
          54,
          63,
          63,
          62,
          61,
          50,
          49,
          53,
          49,
          53,
          50,
          48,
          48,
          48,
          50,
          52,
          48,
          52,
          49,
          48,
          51,
          52,
          49,
          48,
          51,
          48,
          51,
          52,
          48,
          49,
          47,
          49,
          52,
          52,
          52,
          51,
          51,
          49,
          50,
          47,
          49,
          46,
          50,
          49,
          46,
          46,
          46,
          46,
          46,
          46
         ],
         "yaxis": "y"
        },
        {
         "mode": "markers",
         "name": "Test Data",
         "type": "scatter",
         "x": [
          15.6,
          15.64949494949495,
          15.698989898989899,
          15.748484848484848,
          15.797979797979798,
          15.847474747474747,
          15.896969696969697,
          15.946464646464646,
          15.995959595959595,
          16.045454545454547,
          16.094949494949496,
          16.144444444444446,
          16.193939393939395,
          16.243434343434345,
          16.292929292929294,
          16.342424242424244,
          16.391919191919193,
          16.441414141414143,
          16.490909090909092,
          16.54040404040404,
          16.58989898989899,
          16.63939393939394,
          16.68888888888889,
          16.73838383838384,
          16.78787878787879,
          16.83737373737374,
          16.886868686868688,
          16.936363636363637,
          16.985858585858587,
          17.035353535353536,
          17.084848484848486,
          17.134343434343435,
          17.183838383838385,
          17.233333333333334,
          17.282828282828284,
          17.332323232323233,
          17.381818181818183,
          17.431313131313132,
          17.48080808080808,
          17.53030303030303,
          17.57979797979798,
          17.62929292929293,
          17.67878787878788,
          17.72828282828283,
          17.77777777777778,
          17.827272727272728,
          17.876767676767678,
          17.926262626262627,
          17.975757575757576,
          18.025252525252526,
          18.074747474747475,
          18.124242424242425,
          18.173737373737374,
          18.223232323232324,
          18.272727272727273,
          18.322222222222223,
          18.371717171717172,
          18.421212121212122,
          18.47070707070707,
          18.52020202020202,
          18.56969696969697,
          18.61919191919192,
          18.66868686868687,
          18.71818181818182,
          18.767676767676768,
          18.817171717171718,
          18.866666666666667,
          18.916161616161617,
          18.965656565656566,
          19.015151515151516,
          19.064646464646465,
          19.114141414141415,
          19.163636363636364,
          19.213131313131314,
          19.262626262626263,
          19.312121212121212,
          19.361616161616162,
          19.41111111111111,
          19.46060606060606,
          19.51010101010101,
          19.55959595959596,
          19.60909090909091,
          19.65858585858586,
          19.70808080808081,
          19.757575757575758,
          19.807070707070707,
          19.856565656565657,
          19.906060606060606,
          19.955555555555556,
          20.005050505050505,
          20.054545454545455,
          20.104040404040404,
          20.153535353535354,
          20.203030303030303,
          20.252525252525253,
          20.302020202020202,
          20.35151515151515,
          20.4010101010101,
          20.45050505050505,
          20.5
         ],
         "y": [
          54.073275136071224,
          54.0302922270267,
          53.987309317982174,
          53.944326408937656,
          53.90134349989313,
          53.858360590848605,
          53.81537768180408,
          53.772394772759554,
          53.72941186371503,
          53.6864289546705,
          53.64344604562597,
          53.600463136581446,
          53.55748022753692,
          53.514497318492396,
          53.47151440944787,
          53.428531500403345,
          53.38554859135882,
          53.342565682314294,
          53.29958277326977,
          53.25659986422525,
          53.213616955180726,
          53.1706340461362,
          53.127651137091675,
          53.08466822804715,
          53.041685319002625,
          52.9987024099581,
          52.955719500913574,
          52.91273659186905,
          52.86975368282452,
          52.82677077378,
          52.78378786473547,
          52.74080495569095,
          52.69782204664642,
          52.6548391376019,
          52.61185622855737,
          52.568873319512846,
          52.52589041046832,
          52.482907501423796,
          52.43992459237927,
          52.396941683334745,
          52.35395877429022,
          52.310975865245695,
          52.26799295620117,
          52.225010047156644,
          52.18202713811212,
          52.13904422906759,
          52.09606132002307,
          52.05307841097854,
          52.01009550193402,
          51.96711259288949,
          51.92412968384497,
          51.88114677480044,
          51.83816386575592,
          51.79518095671139,
          51.752198047666866,
          51.70921513862234,
          51.666232229577815,
          51.62324932053329,
          51.580266411488765,
          51.53728350244424,
          51.494300593399714,
          51.45131768435519,
          51.408334775310664,
          51.36535186626614,
          51.32236895722161,
          51.27938604817709,
          51.23640313913256,
          51.19342023008804,
          51.15043732104351,
          51.10745441199899,
          51.06447150295446,
          51.021488593909936,
          50.97850568486541,
          50.935522775820885,
          50.89253986677636,
          50.849556957731835,
          50.80657404868731,
          50.763591139642784,
          50.72060823059826,
          50.677625321553734,
          50.63464241250921,
          50.59165950346468,
          50.54867659442016,
          50.50569368537563,
          50.46271077633111,
          50.41972786728658,
          50.37674495824206,
          50.33376204919753,
          50.290779140153006,
          50.24779623110848,
          50.204813322063956,
          50.16183041301943,
          50.118847503974905,
          50.07586459493038,
          50.032881685885854,
          49.98989877684133,
          49.946915867796804,
          49.90393295875228,
          49.86095004970775,
          49.81796714066323
         ]
        },
        {
         "name": "Test Data Fit",
         "type": "scatter",
         "x": [
          15.6,
          15.64949494949495,
          15.698989898989899,
          15.748484848484848,
          15.797979797979798,
          15.847474747474747,
          15.896969696969697,
          15.946464646464646,
          15.995959595959595,
          16.045454545454547,
          16.094949494949496,
          16.144444444444446,
          16.193939393939395,
          16.243434343434345,
          16.292929292929294,
          16.342424242424244,
          16.391919191919193,
          16.441414141414143,
          16.490909090909092,
          16.54040404040404,
          16.58989898989899,
          16.63939393939394,
          16.68888888888889,
          16.73838383838384,
          16.78787878787879,
          16.83737373737374,
          16.886868686868688,
          16.936363636363637,
          16.985858585858587,
          17.035353535353536,
          17.084848484848486,
          17.134343434343435,
          17.183838383838385,
          17.233333333333334,
          17.282828282828284,
          17.332323232323233,
          17.381818181818183,
          17.431313131313132,
          17.48080808080808,
          17.53030303030303,
          17.57979797979798,
          17.62929292929293,
          17.67878787878788,
          17.72828282828283,
          17.77777777777778,
          17.827272727272728,
          17.876767676767678,
          17.926262626262627,
          17.975757575757576,
          18.025252525252526,
          18.074747474747475,
          18.124242424242425,
          18.173737373737374,
          18.223232323232324,
          18.272727272727273,
          18.322222222222223,
          18.371717171717172,
          18.421212121212122,
          18.47070707070707,
          18.52020202020202,
          18.56969696969697,
          18.61919191919192,
          18.66868686868687,
          18.71818181818182,
          18.767676767676768,
          18.817171717171718,
          18.866666666666667,
          18.916161616161617,
          18.965656565656566,
          19.015151515151516,
          19.064646464646465,
          19.114141414141415,
          19.163636363636364,
          19.213131313131314,
          19.262626262626263,
          19.312121212121212,
          19.361616161616162,
          19.41111111111111,
          19.46060606060606,
          19.51010101010101,
          19.55959595959596,
          19.60909090909091,
          19.65858585858586,
          19.70808080808081,
          19.757575757575758,
          19.807070707070707,
          19.856565656565657,
          19.906060606060606,
          19.955555555555556,
          20.005050505050505,
          20.054545454545455,
          20.104040404040404,
          20.153535353535354,
          20.203030303030303,
          20.252525252525253,
          20.302020202020202,
          20.35151515151515,
          20.4010101010101,
          20.45050505050505,
          20.5
         ],
         "y": [
          54.073275136071224,
          54.0302922270267,
          53.987309317982174,
          53.944326408937656,
          53.90134349989313,
          53.858360590848605,
          53.81537768180408,
          53.772394772759554,
          53.72941186371503,
          53.6864289546705,
          53.64344604562597,
          53.600463136581446,
          53.55748022753692,
          53.514497318492396,
          53.47151440944787,
          53.428531500403345,
          53.38554859135882,
          53.342565682314294,
          53.29958277326977,
          53.25659986422525,
          53.213616955180726,
          53.1706340461362,
          53.127651137091675,
          53.08466822804715,
          53.041685319002625,
          52.9987024099581,
          52.955719500913574,
          52.91273659186905,
          52.86975368282452,
          52.82677077378,
          52.78378786473547,
          52.74080495569095,
          52.69782204664642,
          52.6548391376019,
          52.61185622855737,
          52.568873319512846,
          52.52589041046832,
          52.482907501423796,
          52.43992459237927,
          52.396941683334745,
          52.35395877429022,
          52.310975865245695,
          52.26799295620117,
          52.225010047156644,
          52.18202713811212,
          52.13904422906759,
          52.09606132002307,
          52.05307841097854,
          52.01009550193402,
          51.96711259288949,
          51.92412968384497,
          51.88114677480044,
          51.83816386575592,
          51.79518095671139,
          51.752198047666866,
          51.70921513862234,
          51.666232229577815,
          51.62324932053329,
          51.580266411488765,
          51.53728350244424,
          51.494300593399714,
          51.45131768435519,
          51.408334775310664,
          51.36535186626614,
          51.32236895722161,
          51.27938604817709,
          51.23640313913256,
          51.19342023008804,
          51.15043732104351,
          51.10745441199899,
          51.06447150295446,
          51.021488593909936,
          50.97850568486541,
          50.935522775820885,
          50.89253986677636,
          50.849556957731835,
          50.80657404868731,
          50.763591139642784,
          50.72060823059826,
          50.677625321553734,
          50.63464241250921,
          50.59165950346468,
          50.54867659442016,
          50.50569368537563,
          50.46271077633111,
          50.41972786728658,
          50.37674495824206,
          50.33376204919753,
          50.290779140153006,
          50.24779623110848,
          50.204813322063956,
          50.16183041301943,
          50.118847503974905,
          50.07586459493038,
          50.032881685885854,
          49.98989877684133,
          49.946915867796804,
          49.90393295875228,
          49.86095004970775,
          49.81796714066323
         ]
        }
       ],
       "layout": {
        "legend": {
         "tracegroupgap": 0
        },
        "template": {
         "data": {
          "bar": [
           {
            "error_x": {
             "color": "#2a3f5f"
            },
            "error_y": {
             "color": "#2a3f5f"
            },
            "marker": {
             "line": {
              "color": "#E5ECF6",
              "width": 0.5
             },
             "pattern": {
              "fillmode": "overlay",
              "size": 10,
              "solidity": 0.2
             }
            },
            "type": "bar"
           }
          ],
          "barpolar": [
           {
            "marker": {
             "line": {
              "color": "#E5ECF6",
              "width": 0.5
             },
             "pattern": {
              "fillmode": "overlay",
              "size": 10,
              "solidity": 0.2
             }
            },
            "type": "barpolar"
           }
          ],
          "carpet": [
           {
            "aaxis": {
             "endlinecolor": "#2a3f5f",
             "gridcolor": "white",
             "linecolor": "white",
             "minorgridcolor": "white",
             "startlinecolor": "#2a3f5f"
            },
            "baxis": {
             "endlinecolor": "#2a3f5f",
             "gridcolor": "white",
             "linecolor": "white",
             "minorgridcolor": "white",
             "startlinecolor": "#2a3f5f"
            },
            "type": "carpet"
           }
          ],
          "choropleth": [
           {
            "colorbar": {
             "outlinewidth": 0,
             "ticks": ""
            },
            "type": "choropleth"
           }
          ],
          "contour": [
           {
            "colorbar": {
             "outlinewidth": 0,
             "ticks": ""
            },
            "colorscale": [
             [
              0,
              "#0d0887"
             ],
             [
              0.1111111111111111,
              "#46039f"
             ],
             [
              0.2222222222222222,
              "#7201a8"
             ],
             [
              0.3333333333333333,
              "#9c179e"
             ],
             [
              0.4444444444444444,
              "#bd3786"
             ],
             [
              0.5555555555555556,
              "#d8576b"
             ],
             [
              0.6666666666666666,
              "#ed7953"
             ],
             [
              0.7777777777777778,
              "#fb9f3a"
             ],
             [
              0.8888888888888888,
              "#fdca26"
             ],
             [
              1,
              "#f0f921"
             ]
            ],
            "type": "contour"
           }
          ],
          "contourcarpet": [
           {
            "colorbar": {
             "outlinewidth": 0,
             "ticks": ""
            },
            "type": "contourcarpet"
           }
          ],
          "heatmap": [
           {
            "colorbar": {
             "outlinewidth": 0,
             "ticks": ""
            },
            "colorscale": [
             [
              0,
              "#0d0887"
             ],
             [
              0.1111111111111111,
              "#46039f"
             ],
             [
              0.2222222222222222,
              "#7201a8"
             ],
             [
              0.3333333333333333,
              "#9c179e"
             ],
             [
              0.4444444444444444,
              "#bd3786"
             ],
             [
              0.5555555555555556,
              "#d8576b"
             ],
             [
              0.6666666666666666,
              "#ed7953"
             ],
             [
              0.7777777777777778,
              "#fb9f3a"
             ],
             [
              0.8888888888888888,
              "#fdca26"
             ],
             [
              1,
              "#f0f921"
             ]
            ],
            "type": "heatmap"
           }
          ],
          "heatmapgl": [
           {
            "colorbar": {
             "outlinewidth": 0,
             "ticks": ""
            },
            "colorscale": [
             [
              0,
              "#0d0887"
             ],
             [
              0.1111111111111111,
              "#46039f"
             ],
             [
              0.2222222222222222,
              "#7201a8"
             ],
             [
              0.3333333333333333,
              "#9c179e"
             ],
             [
              0.4444444444444444,
              "#bd3786"
             ],
             [
              0.5555555555555556,
              "#d8576b"
             ],
             [
              0.6666666666666666,
              "#ed7953"
             ],
             [
              0.7777777777777778,
              "#fb9f3a"
             ],
             [
              0.8888888888888888,
              "#fdca26"
             ],
             [
              1,
              "#f0f921"
             ]
            ],
            "type": "heatmapgl"
           }
          ],
          "histogram": [
           {
            "marker": {
             "pattern": {
              "fillmode": "overlay",
              "size": 10,
              "solidity": 0.2
             }
            },
            "type": "histogram"
           }
          ],
          "histogram2d": [
           {
            "colorbar": {
             "outlinewidth": 0,
             "ticks": ""
            },
            "colorscale": [
             [
              0,
              "#0d0887"
             ],
             [
              0.1111111111111111,
              "#46039f"
             ],
             [
              0.2222222222222222,
              "#7201a8"
             ],
             [
              0.3333333333333333,
              "#9c179e"
             ],
             [
              0.4444444444444444,
              "#bd3786"
             ],
             [
              0.5555555555555556,
              "#d8576b"
             ],
             [
              0.6666666666666666,
              "#ed7953"
             ],
             [
              0.7777777777777778,
              "#fb9f3a"
             ],
             [
              0.8888888888888888,
              "#fdca26"
             ],
             [
              1,
              "#f0f921"
             ]
            ],
            "type": "histogram2d"
           }
          ],
          "histogram2dcontour": [
           {
            "colorbar": {
             "outlinewidth": 0,
             "ticks": ""
            },
            "colorscale": [
             [
              0,
              "#0d0887"
             ],
             [
              0.1111111111111111,
              "#46039f"
             ],
             [
              0.2222222222222222,
              "#7201a8"
             ],
             [
              0.3333333333333333,
              "#9c179e"
             ],
             [
              0.4444444444444444,
              "#bd3786"
             ],
             [
              0.5555555555555556,
              "#d8576b"
             ],
             [
              0.6666666666666666,
              "#ed7953"
             ],
             [
              0.7777777777777778,
              "#fb9f3a"
             ],
             [
              0.8888888888888888,
              "#fdca26"
             ],
             [
              1,
              "#f0f921"
             ]
            ],
            "type": "histogram2dcontour"
           }
          ],
          "mesh3d": [
           {
            "colorbar": {
             "outlinewidth": 0,
             "ticks": ""
            },
            "type": "mesh3d"
           }
          ],
          "parcoords": [
           {
            "line": {
             "colorbar": {
              "outlinewidth": 0,
              "ticks": ""
             }
            },
            "type": "parcoords"
           }
          ],
          "pie": [
           {
            "automargin": true,
            "type": "pie"
           }
          ],
          "scatter": [
           {
            "fillpattern": {
             "fillmode": "overlay",
             "size": 10,
             "solidity": 0.2
            },
            "type": "scatter"
           }
          ],
          "scatter3d": [
           {
            "line": {
             "colorbar": {
              "outlinewidth": 0,
              "ticks": ""
             }
            },
            "marker": {
             "colorbar": {
              "outlinewidth": 0,
              "ticks": ""
             }
            },
            "type": "scatter3d"
           }
          ],
          "scattercarpet": [
           {
            "marker": {
             "colorbar": {
              "outlinewidth": 0,
              "ticks": ""
             }
            },
            "type": "scattercarpet"
           }
          ],
          "scattergeo": [
           {
            "marker": {
             "colorbar": {
              "outlinewidth": 0,
              "ticks": ""
             }
            },
            "type": "scattergeo"
           }
          ],
          "scattergl": [
           {
            "marker": {
             "colorbar": {
              "outlinewidth": 0,
              "ticks": ""
             }
            },
            "type": "scattergl"
           }
          ],
          "scattermapbox": [
           {
            "marker": {
             "colorbar": {
              "outlinewidth": 0,
              "ticks": ""
             }
            },
            "type": "scattermapbox"
           }
          ],
          "scatterpolar": [
           {
            "marker": {
             "colorbar": {
              "outlinewidth": 0,
              "ticks": ""
             }
            },
            "type": "scatterpolar"
           }
          ],
          "scatterpolargl": [
           {
            "marker": {
             "colorbar": {
              "outlinewidth": 0,
              "ticks": ""
             }
            },
            "type": "scatterpolargl"
           }
          ],
          "scatterternary": [
           {
            "marker": {
             "colorbar": {
              "outlinewidth": 0,
              "ticks": ""
             }
            },
            "type": "scatterternary"
           }
          ],
          "surface": [
           {
            "colorbar": {
             "outlinewidth": 0,
             "ticks": ""
            },
            "colorscale": [
             [
              0,
              "#0d0887"
             ],
             [
              0.1111111111111111,
              "#46039f"
             ],
             [
              0.2222222222222222,
              "#7201a8"
             ],
             [
              0.3333333333333333,
              "#9c179e"
             ],
             [
              0.4444444444444444,
              "#bd3786"
             ],
             [
              0.5555555555555556,
              "#d8576b"
             ],
             [
              0.6666666666666666,
              "#ed7953"
             ],
             [
              0.7777777777777778,
              "#fb9f3a"
             ],
             [
              0.8888888888888888,
              "#fdca26"
             ],
             [
              1,
              "#f0f921"
             ]
            ],
            "type": "surface"
           }
          ],
          "table": [
           {
            "cells": {
             "fill": {
              "color": "#EBF0F8"
             },
             "line": {
              "color": "white"
             }
            },
            "header": {
             "fill": {
              "color": "#C8D4E3"
             },
             "line": {
              "color": "white"
             }
            },
            "type": "table"
           }
          ]
         },
         "layout": {
          "annotationdefaults": {
           "arrowcolor": "#2a3f5f",
           "arrowhead": 0,
           "arrowwidth": 1
          },
          "autotypenumbers": "strict",
          "coloraxis": {
           "colorbar": {
            "outlinewidth": 0,
            "ticks": ""
           }
          },
          "colorscale": {
           "diverging": [
            [
             0,
             "#8e0152"
            ],
            [
             0.1,
             "#c51b7d"
            ],
            [
             0.2,
             "#de77ae"
            ],
            [
             0.3,
             "#f1b6da"
            ],
            [
             0.4,
             "#fde0ef"
            ],
            [
             0.5,
             "#f7f7f7"
            ],
            [
             0.6,
             "#e6f5d0"
            ],
            [
             0.7,
             "#b8e186"
            ],
            [
             0.8,
             "#7fbc41"
            ],
            [
             0.9,
             "#4d9221"
            ],
            [
             1,
             "#276419"
            ]
           ],
           "sequential": [
            [
             0,
             "#0d0887"
            ],
            [
             0.1111111111111111,
             "#46039f"
            ],
            [
             0.2222222222222222,
             "#7201a8"
            ],
            [
             0.3333333333333333,
             "#9c179e"
            ],
            [
             0.4444444444444444,
             "#bd3786"
            ],
            [
             0.5555555555555556,
             "#d8576b"
            ],
            [
             0.6666666666666666,
             "#ed7953"
            ],
            [
             0.7777777777777778,
             "#fb9f3a"
            ],
            [
             0.8888888888888888,
             "#fdca26"
            ],
            [
             1,
             "#f0f921"
            ]
           ],
           "sequentialminus": [
            [
             0,
             "#0d0887"
            ],
            [
             0.1111111111111111,
             "#46039f"
            ],
            [
             0.2222222222222222,
             "#7201a8"
            ],
            [
             0.3333333333333333,
             "#9c179e"
            ],
            [
             0.4444444444444444,
             "#bd3786"
            ],
            [
             0.5555555555555556,
             "#d8576b"
            ],
            [
             0.6666666666666666,
             "#ed7953"
            ],
            [
             0.7777777777777778,
             "#fb9f3a"
            ],
            [
             0.8888888888888888,
             "#fdca26"
            ],
            [
             1,
             "#f0f921"
            ]
           ]
          },
          "colorway": [
           "#636efa",
           "#EF553B",
           "#00cc96",
           "#ab63fa",
           "#FFA15A",
           "#19d3f3",
           "#FF6692",
           "#B6E880",
           "#FF97FF",
           "#FECB52"
          ],
          "font": {
           "color": "#2a3f5f"
          },
          "geo": {
           "bgcolor": "white",
           "lakecolor": "white",
           "landcolor": "#E5ECF6",
           "showlakes": true,
           "showland": true,
           "subunitcolor": "white"
          },
          "hoverlabel": {
           "align": "left"
          },
          "hovermode": "closest",
          "mapbox": {
           "style": "light"
          },
          "paper_bgcolor": "white",
          "plot_bgcolor": "#E5ECF6",
          "polar": {
           "angularaxis": {
            "gridcolor": "white",
            "linecolor": "white",
            "ticks": ""
           },
           "bgcolor": "#E5ECF6",
           "radialaxis": {
            "gridcolor": "white",
            "linecolor": "white",
            "ticks": ""
           }
          },
          "scene": {
           "xaxis": {
            "backgroundcolor": "#E5ECF6",
            "gridcolor": "white",
            "gridwidth": 2,
            "linecolor": "white",
            "showbackground": true,
            "ticks": "",
            "zerolinecolor": "white"
           },
           "yaxis": {
            "backgroundcolor": "#E5ECF6",
            "gridcolor": "white",
            "gridwidth": 2,
            "linecolor": "white",
            "showbackground": true,
            "ticks": "",
            "zerolinecolor": "white"
           },
           "zaxis": {
            "backgroundcolor": "#E5ECF6",
            "gridcolor": "white",
            "gridwidth": 2,
            "linecolor": "white",
            "showbackground": true,
            "ticks": "",
            "zerolinecolor": "white"
           }
          },
          "shapedefaults": {
           "line": {
            "color": "#2a3f5f"
           }
          },
          "ternary": {
           "aaxis": {
            "gridcolor": "white",
            "linecolor": "white",
            "ticks": ""
           },
           "baxis": {
            "gridcolor": "white",
            "linecolor": "white",
            "ticks": ""
           },
           "bgcolor": "#E5ECF6",
           "caxis": {
            "gridcolor": "white",
            "linecolor": "white",
            "ticks": ""
           }
          },
          "title": {
           "x": 0.05
          },
          "xaxis": {
           "automargin": true,
           "gridcolor": "white",
           "linecolor": "white",
           "ticks": "",
           "title": {
            "standoff": 15
           },
           "zerolinecolor": "white",
           "zerolinewidth": 2
          },
          "yaxis": {
           "automargin": true,
           "gridcolor": "white",
           "linecolor": "white",
           "ticks": "",
           "title": {
            "standoff": 15
           },
           "zerolinecolor": "white",
           "zerolinewidth": 2
          }
         }
        },
        "title": {
         "text": "DHT22 Data - Top 5 and Bottom 5 Removed"
        },
        "xaxis": {
         "anchor": "y",
         "domain": [
          0,
          1
         ],
         "title": {
          "text": "temperature"
         }
        },
        "yaxis": {
         "anchor": "x",
         "domain": [
          0,
          1
         ],
         "title": {
          "text": "humidity"
         }
        }
       }
      }
     },
     "metadata": {},
     "output_type": "display_data"
    }
   ],
   "source": [
    "# step 3 - create Linear Regression\n",
    "df = removedSomeData\n",
    "X10 = df.temperature.values.reshape(-1, 1)\n",
    "\n",
    "# create Linear Regression\n",
    "modelRemoved10 = LinearRegression()\n",
    "# train model with humidity data\n",
    "modelRemoved10.fit(X10, df.humidity)\n",
    "\n",
    "# Step 4 - find the min and max temperature\n",
    "minTemp: float = X10.min()\n",
    "maxTemp: float = X10.max()\n",
    "testTemp = np.linspace(minTemp, maxTemp, 100)\n",
    "predictHumidity = modelRemoved10.predict(testTemp.reshape(-1, 1))\n",
    "\n",
    "# step 5 - plot\n",
    "testData = {'temperature': testTemp, 'humidity': predictHumidity}\n",
    "testDF = pd.DataFrame(data=testData)\n",
    "\n",
    "fig = px.scatter(df, x='temperature', y='humidity', opacity=0.65, title='DHT22 Data - Top 5 and Bottom 5 Removed')\n",
    "fig.add_traces(go.Scatter(x=testDF['temperature'], y=testDF['humidity'], mode='markers', name='Test Data'))\n",
    "fig.add_traces(go.Scatter(x=testTemp, y=predictHumidity, name='Test Data Fit'))\n",
    "fig.show()"
   ]
  },
  {
   "cell_type": "markdown",
   "metadata": {},
   "source": [
    "## Step 8: More Cleaning\n",
    "\n",
    "Filter a few more outliers again and repeat 3-5 and compare the trend line w.r.t. the filtered reduced training sample points and provide your insight. "
   ]
  },
  {
   "cell_type": "code",
   "execution_count": 95,
   "metadata": {},
   "outputs": [
    {
     "name": "stdout",
     "output_type": "stream",
     "text": [
      "          timestamp  temperature  humidity  heatindex\n",
      "132  20240719131252         20.5      46.0      19.81\n",
      "130  20240719125252         20.4      46.0      19.70\n",
      "129  20240719124252         20.4      46.0      19.70\n",
      "128  20240719123252         20.4      46.0      19.70\n",
      "127  20240719122251         20.3      46.0      19.59\n",
      "..              ...          ...       ...        ...\n",
      "3    20240718154225         18.7      61.0      18.22\n",
      "4    20240718155225         18.6      61.0      18.11\n",
      "2    20240718153225         18.7      62.0      18.24\n",
      "1    20240718152224         18.7      63.0      18.27\n",
      "0    20240718151224         18.7      63.0      18.27\n",
      "\n",
      "[128 rows x 4 columns]\n"
     ]
    }
   ],
   "source": [
    "lessData = removedSomeData\n",
    "lessData = lessData.sort_values('humidity')\n",
    "print(lessData)"
   ]
  },
  {
   "cell_type": "code",
   "execution_count": 96,
   "metadata": {},
   "outputs": [
    {
     "name": "stdout",
     "output_type": "stream",
     "text": [
      "128\n",
      "118\n"
     ]
    }
   ],
   "source": [
    "print(len(lessData))\n",
    "# remove data last 10 entries into the table\n",
    "count = 10\n",
    "while count > 0:\n",
    "    lessData = lessData.drop(lessData.iloc[len(lessData)-1].name)\n",
    "    count -= 1\n",
    "\n",
    "# printing length of dataframe to confirm removal\n",
    "print(len(lessData))"
   ]
  },
  {
   "cell_type": "code",
   "execution_count": 97,
   "metadata": {},
   "outputs": [
    {
     "name": "stdout",
     "output_type": "stream",
     "text": [
      "118\n",
      "108\n"
     ]
    }
   ],
   "source": [
    "print(len(lessData))\n",
    "# remove data top 10 entries into the table\n",
    "count = 10\n",
    "while count > 0:\n",
    "    lessData = lessData.drop(lessData.iloc[count - 1].name)\n",
    "    count -= 1\n",
    "\n",
    "# printing length of dataframe to confirm removal\n",
    "print(len(lessData))"
   ]
  },
  {
   "cell_type": "code",
   "execution_count": 98,
   "metadata": {},
   "outputs": [
    {
     "name": "stdout",
     "output_type": "stream",
     "text": [
      "          timestamp  temperature  humidity  heatindex\n",
      "120  20240719111250         19.1      48.0      18.32\n",
      "121  20240719112250         19.2      48.0      18.43\n",
      "122  20240719113250         19.3      48.0      18.54\n",
      "118  20240719105249         19.0      48.0      18.21\n",
      "37   20240718212233         19.7      48.0      18.98\n",
      "..              ...          ...       ...        ...\n",
      "14   20240718173227         18.4      55.0      17.73\n",
      "13   20240718172227         18.2      56.0      17.54\n",
      "12   20240718171227         18.1      57.0      17.45\n",
      "11   20240718170227         18.0      58.0      17.37\n",
      "10   20240718165226         18.0      59.0      17.40\n",
      "\n",
      "[108 rows x 4 columns]\n"
     ]
    }
   ],
   "source": [
    "# can compare to print(sortedData)\n",
    "print(lessData)"
   ]
  },
  {
   "cell_type": "code",
   "execution_count": 99,
   "metadata": {},
   "outputs": [
    {
     "data": {
      "application/vnd.plotly.v1+json": {
       "config": {
        "plotlyServerURL": "https://plot.ly"
       },
       "data": [
        {
         "hovertemplate": "temperature=%{x}<br>humidity=%{y}<extra></extra>",
         "legendgroup": "",
         "marker": {
          "color": "#636efa",
          "opacity": 0.65,
          "symbol": "circle"
         },
         "mode": "markers",
         "name": "",
         "orientation": "v",
         "showlegend": false,
         "type": "scatter",
         "x": [
          19.1,
          19.2,
          19.3,
          19,
          19.7,
          19.1,
          19.6,
          19.3,
          18.6,
          19.4,
          19.7,
          18.8,
          19.8,
          19.9,
          20,
          20.1,
          18.9,
          18.5,
          18.4,
          18.2,
          18.8,
          18,
          18.5,
          17.7,
          19.1,
          17.9,
          20,
          20.1,
          18.9,
          18.6,
          19.5,
          18.5,
          19.6,
          19.9,
          18.3,
          19.9,
          18.1,
          19.3,
          18.2,
          16.8,
          16.9,
          17.6,
          16.7,
          17.4,
          16.6,
          16.5,
          17,
          16.3,
          17.2,
          17.5,
          16,
          19.8,
          19.8,
          19.2,
          19.9,
          19.1,
          15.7,
          15.6,
          19.7,
          19.3,
          17.6,
          17.4,
          18,
          17.5,
          17.9,
          17.8,
          17.7,
          17.5,
          15.8,
          16.4,
          16.4,
          16.3,
          15.7,
          16.3,
          16.2,
          16.2,
          16.1,
          16.1,
          16.5,
          16,
          16,
          15.9,
          15.9,
          15.8,
          15.8,
          15.7,
          16.6,
          15.6,
          18.8,
          17.2,
          17.1,
          17.1,
          17.3,
          17,
          16.7,
          16.8,
          16.8,
          18.9,
          16.9,
          16.9,
          17.3,
          16.6,
          18.6,
          18.4,
          18.2,
          18.1,
          18,
          18
         ],
         "xaxis": "x",
         "y": [
          48,
          48,
          48,
          48,
          48,
          48,
          48,
          49,
          49,
          49,
          49,
          49,
          49,
          49,
          49,
          49,
          49,
          50,
          50,
          50,
          50,
          50,
          50,
          50,
          50,
          50,
          50,
          50,
          50,
          51,
          51,
          51,
          51,
          51,
          51,
          51,
          51,
          51,
          51,
          51,
          51,
          51,
          51,
          51,
          51,
          51,
          51,
          51,
          51,
          51,
          51,
          52,
          52,
          52,
          52,
          52,
          52,
          52,
          52,
          52,
          52,
          52,
          52,
          52,
          52,
          52,
          52,
          52,
          53,
          53,
          53,
          53,
          53,
          53,
          53,
          53,
          53,
          53,
          53,
          53,
          53,
          53,
          53,
          53,
          53,
          53,
          53,
          53,
          53,
          53,
          53,
          53,
          53,
          53,
          53,
          53,
          53,
          53,
          53,
          53,
          53,
          53,
          54,
          55,
          56,
          57,
          58,
          59
         ],
         "yaxis": "y"
        },
        {
         "mode": "markers",
         "name": "Test Data",
         "type": "scatter",
         "x": [
          15.6,
          15.645454545454545,
          15.690909090909091,
          15.736363636363636,
          15.781818181818181,
          15.827272727272726,
          15.872727272727273,
          15.918181818181818,
          15.963636363636363,
          16.009090909090908,
          16.054545454545455,
          16.1,
          16.145454545454545,
          16.19090909090909,
          16.236363636363635,
          16.28181818181818,
          16.327272727272728,
          16.37272727272727,
          16.418181818181818,
          16.463636363636365,
          16.509090909090908,
          16.554545454545455,
          16.6,
          16.645454545454545,
          16.69090909090909,
          16.736363636363635,
          16.78181818181818,
          16.827272727272728,
          16.87272727272727,
          16.918181818181818,
          16.963636363636365,
          17.009090909090908,
          17.054545454545455,
          17.1,
          17.145454545454545,
          17.19090909090909,
          17.236363636363638,
          17.28181818181818,
          17.327272727272728,
          17.372727272727275,
          17.418181818181818,
          17.463636363636365,
          17.509090909090908,
          17.554545454545455,
          17.6,
          17.645454545454545,
          17.69090909090909,
          17.736363636363638,
          17.78181818181818,
          17.827272727272728,
          17.872727272727275,
          17.918181818181818,
          17.963636363636365,
          18.009090909090908,
          18.054545454545455,
          18.1,
          18.145454545454545,
          18.19090909090909,
          18.236363636363638,
          18.28181818181818,
          18.327272727272728,
          18.372727272727275,
          18.418181818181818,
          18.463636363636365,
          18.509090909090908,
          18.554545454545455,
          18.6,
          18.645454545454545,
          18.69090909090909,
          18.736363636363638,
          18.78181818181818,
          18.827272727272728,
          18.872727272727275,
          18.918181818181818,
          18.963636363636365,
          19.009090909090908,
          19.054545454545455,
          19.1,
          19.145454545454548,
          19.19090909090909,
          19.236363636363638,
          19.28181818181818,
          19.327272727272728,
          19.372727272727275,
          19.418181818181818,
          19.463636363636365,
          19.50909090909091,
          19.554545454545455,
          19.6,
          19.645454545454548,
          19.69090909090909,
          19.736363636363638,
          19.78181818181818,
          19.827272727272728,
          19.872727272727275,
          19.918181818181818,
          19.963636363636365,
          20.00909090909091,
          20.054545454545455,
          20.1
         ],
         "y": [
          53.235053516980045,
          53.20201876029693,
          53.16898400361381,
          53.13594924693069,
          53.10291449024757,
          53.069879733564456,
          53.03684497688133,
          53.00381022019822,
          52.970775463515096,
          52.93774070683198,
          52.90470595014886,
          52.871671193465744,
          52.83863643678262,
          52.8056016800995,
          52.772566923416385,
          52.73953216673327,
          52.70649741005015,
          52.673462653367025,
          52.64042789668391,
          52.60739314000079,
          52.57435838331767,
          52.54132362663455,
          52.508288869951436,
          52.47525411326831,
          52.4422193565852,
          52.409184599902076,
          52.37614984321896,
          52.34311508653584,
          52.310080329852724,
          52.2770455731696,
          52.24401081648648,
          52.210976059803365,
          52.17794130312025,
          52.14490654643713,
          52.111871789754005,
          52.07883703307089,
          52.04580227638777,
          52.01276751970465,
          51.97973276302153,
          51.94669800633841,
          51.91366324965529,
          51.88062849297218,
          51.847593736289056,
          51.814558979605934,
          51.78152422292282,
          51.748489466239704,
          51.71545470955658,
          51.68241995287346,
          51.649385196190345,
          51.61635043950722,
          51.58331568282411,
          51.550280926140985,
          51.51724616945787,
          51.484211412774755,
          51.45117665609163,
          51.41814189940851,
          51.385107142725396,
          51.35207238604227,
          51.31903762935916,
          51.286002872676036,
          51.252968115992914,
          51.2199333593098,
          51.186898602626684,
          51.15386384594356,
          51.12082908926044,
          51.087794332577324,
          51.0547595758942,
          51.02172481921109,
          50.988690062527965,
          50.95565530584485,
          50.92262054916173,
          50.88958579247861,
          50.85655103579549,
          50.823516279112376,
          50.79048152242925,
          50.75744676574614,
          50.724412009063016,
          50.691377252379894,
          50.65834249569678,
          50.625307739013664,
          50.59227298233054,
          50.55923822564742,
          50.526203468964304,
          50.49316871228118,
          50.46013395559807,
          50.427099198914945,
          50.39406444223182,
          50.36102968554871,
          50.32799492886559,
          50.29496017218247,
          50.26192541549935,
          50.22889065881623,
          50.19585590213312,
          50.162821145449996,
          50.129786388766874,
          50.09675163208376,
          50.06371687540064,
          50.03068211871752,
          49.9976473620344,
          49.964612605351284
         ]
        },
        {
         "name": "Test Data Fit",
         "type": "scatter",
         "x": [
          15.6,
          15.645454545454545,
          15.690909090909091,
          15.736363636363636,
          15.781818181818181,
          15.827272727272726,
          15.872727272727273,
          15.918181818181818,
          15.963636363636363,
          16.009090909090908,
          16.054545454545455,
          16.1,
          16.145454545454545,
          16.19090909090909,
          16.236363636363635,
          16.28181818181818,
          16.327272727272728,
          16.37272727272727,
          16.418181818181818,
          16.463636363636365,
          16.509090909090908,
          16.554545454545455,
          16.6,
          16.645454545454545,
          16.69090909090909,
          16.736363636363635,
          16.78181818181818,
          16.827272727272728,
          16.87272727272727,
          16.918181818181818,
          16.963636363636365,
          17.009090909090908,
          17.054545454545455,
          17.1,
          17.145454545454545,
          17.19090909090909,
          17.236363636363638,
          17.28181818181818,
          17.327272727272728,
          17.372727272727275,
          17.418181818181818,
          17.463636363636365,
          17.509090909090908,
          17.554545454545455,
          17.6,
          17.645454545454545,
          17.69090909090909,
          17.736363636363638,
          17.78181818181818,
          17.827272727272728,
          17.872727272727275,
          17.918181818181818,
          17.963636363636365,
          18.009090909090908,
          18.054545454545455,
          18.1,
          18.145454545454545,
          18.19090909090909,
          18.236363636363638,
          18.28181818181818,
          18.327272727272728,
          18.372727272727275,
          18.418181818181818,
          18.463636363636365,
          18.509090909090908,
          18.554545454545455,
          18.6,
          18.645454545454545,
          18.69090909090909,
          18.736363636363638,
          18.78181818181818,
          18.827272727272728,
          18.872727272727275,
          18.918181818181818,
          18.963636363636365,
          19.009090909090908,
          19.054545454545455,
          19.1,
          19.145454545454548,
          19.19090909090909,
          19.236363636363638,
          19.28181818181818,
          19.327272727272728,
          19.372727272727275,
          19.418181818181818,
          19.463636363636365,
          19.50909090909091,
          19.554545454545455,
          19.6,
          19.645454545454548,
          19.69090909090909,
          19.736363636363638,
          19.78181818181818,
          19.827272727272728,
          19.872727272727275,
          19.918181818181818,
          19.963636363636365,
          20.00909090909091,
          20.054545454545455,
          20.1
         ],
         "y": [
          53.235053516980045,
          53.20201876029693,
          53.16898400361381,
          53.13594924693069,
          53.10291449024757,
          53.069879733564456,
          53.03684497688133,
          53.00381022019822,
          52.970775463515096,
          52.93774070683198,
          52.90470595014886,
          52.871671193465744,
          52.83863643678262,
          52.8056016800995,
          52.772566923416385,
          52.73953216673327,
          52.70649741005015,
          52.673462653367025,
          52.64042789668391,
          52.60739314000079,
          52.57435838331767,
          52.54132362663455,
          52.508288869951436,
          52.47525411326831,
          52.4422193565852,
          52.409184599902076,
          52.37614984321896,
          52.34311508653584,
          52.310080329852724,
          52.2770455731696,
          52.24401081648648,
          52.210976059803365,
          52.17794130312025,
          52.14490654643713,
          52.111871789754005,
          52.07883703307089,
          52.04580227638777,
          52.01276751970465,
          51.97973276302153,
          51.94669800633841,
          51.91366324965529,
          51.88062849297218,
          51.847593736289056,
          51.814558979605934,
          51.78152422292282,
          51.748489466239704,
          51.71545470955658,
          51.68241995287346,
          51.649385196190345,
          51.61635043950722,
          51.58331568282411,
          51.550280926140985,
          51.51724616945787,
          51.484211412774755,
          51.45117665609163,
          51.41814189940851,
          51.385107142725396,
          51.35207238604227,
          51.31903762935916,
          51.286002872676036,
          51.252968115992914,
          51.2199333593098,
          51.186898602626684,
          51.15386384594356,
          51.12082908926044,
          51.087794332577324,
          51.0547595758942,
          51.02172481921109,
          50.988690062527965,
          50.95565530584485,
          50.92262054916173,
          50.88958579247861,
          50.85655103579549,
          50.823516279112376,
          50.79048152242925,
          50.75744676574614,
          50.724412009063016,
          50.691377252379894,
          50.65834249569678,
          50.625307739013664,
          50.59227298233054,
          50.55923822564742,
          50.526203468964304,
          50.49316871228118,
          50.46013395559807,
          50.427099198914945,
          50.39406444223182,
          50.36102968554871,
          50.32799492886559,
          50.29496017218247,
          50.26192541549935,
          50.22889065881623,
          50.19585590213312,
          50.162821145449996,
          50.129786388766874,
          50.09675163208376,
          50.06371687540064,
          50.03068211871752,
          49.9976473620344,
          49.964612605351284
         ]
        }
       ],
       "layout": {
        "legend": {
         "tracegroupgap": 0
        },
        "template": {
         "data": {
          "bar": [
           {
            "error_x": {
             "color": "#2a3f5f"
            },
            "error_y": {
             "color": "#2a3f5f"
            },
            "marker": {
             "line": {
              "color": "#E5ECF6",
              "width": 0.5
             },
             "pattern": {
              "fillmode": "overlay",
              "size": 10,
              "solidity": 0.2
             }
            },
            "type": "bar"
           }
          ],
          "barpolar": [
           {
            "marker": {
             "line": {
              "color": "#E5ECF6",
              "width": 0.5
             },
             "pattern": {
              "fillmode": "overlay",
              "size": 10,
              "solidity": 0.2
             }
            },
            "type": "barpolar"
           }
          ],
          "carpet": [
           {
            "aaxis": {
             "endlinecolor": "#2a3f5f",
             "gridcolor": "white",
             "linecolor": "white",
             "minorgridcolor": "white",
             "startlinecolor": "#2a3f5f"
            },
            "baxis": {
             "endlinecolor": "#2a3f5f",
             "gridcolor": "white",
             "linecolor": "white",
             "minorgridcolor": "white",
             "startlinecolor": "#2a3f5f"
            },
            "type": "carpet"
           }
          ],
          "choropleth": [
           {
            "colorbar": {
             "outlinewidth": 0,
             "ticks": ""
            },
            "type": "choropleth"
           }
          ],
          "contour": [
           {
            "colorbar": {
             "outlinewidth": 0,
             "ticks": ""
            },
            "colorscale": [
             [
              0,
              "#0d0887"
             ],
             [
              0.1111111111111111,
              "#46039f"
             ],
             [
              0.2222222222222222,
              "#7201a8"
             ],
             [
              0.3333333333333333,
              "#9c179e"
             ],
             [
              0.4444444444444444,
              "#bd3786"
             ],
             [
              0.5555555555555556,
              "#d8576b"
             ],
             [
              0.6666666666666666,
              "#ed7953"
             ],
             [
              0.7777777777777778,
              "#fb9f3a"
             ],
             [
              0.8888888888888888,
              "#fdca26"
             ],
             [
              1,
              "#f0f921"
             ]
            ],
            "type": "contour"
           }
          ],
          "contourcarpet": [
           {
            "colorbar": {
             "outlinewidth": 0,
             "ticks": ""
            },
            "type": "contourcarpet"
           }
          ],
          "heatmap": [
           {
            "colorbar": {
             "outlinewidth": 0,
             "ticks": ""
            },
            "colorscale": [
             [
              0,
              "#0d0887"
             ],
             [
              0.1111111111111111,
              "#46039f"
             ],
             [
              0.2222222222222222,
              "#7201a8"
             ],
             [
              0.3333333333333333,
              "#9c179e"
             ],
             [
              0.4444444444444444,
              "#bd3786"
             ],
             [
              0.5555555555555556,
              "#d8576b"
             ],
             [
              0.6666666666666666,
              "#ed7953"
             ],
             [
              0.7777777777777778,
              "#fb9f3a"
             ],
             [
              0.8888888888888888,
              "#fdca26"
             ],
             [
              1,
              "#f0f921"
             ]
            ],
            "type": "heatmap"
           }
          ],
          "heatmapgl": [
           {
            "colorbar": {
             "outlinewidth": 0,
             "ticks": ""
            },
            "colorscale": [
             [
              0,
              "#0d0887"
             ],
             [
              0.1111111111111111,
              "#46039f"
             ],
             [
              0.2222222222222222,
              "#7201a8"
             ],
             [
              0.3333333333333333,
              "#9c179e"
             ],
             [
              0.4444444444444444,
              "#bd3786"
             ],
             [
              0.5555555555555556,
              "#d8576b"
             ],
             [
              0.6666666666666666,
              "#ed7953"
             ],
             [
              0.7777777777777778,
              "#fb9f3a"
             ],
             [
              0.8888888888888888,
              "#fdca26"
             ],
             [
              1,
              "#f0f921"
             ]
            ],
            "type": "heatmapgl"
           }
          ],
          "histogram": [
           {
            "marker": {
             "pattern": {
              "fillmode": "overlay",
              "size": 10,
              "solidity": 0.2
             }
            },
            "type": "histogram"
           }
          ],
          "histogram2d": [
           {
            "colorbar": {
             "outlinewidth": 0,
             "ticks": ""
            },
            "colorscale": [
             [
              0,
              "#0d0887"
             ],
             [
              0.1111111111111111,
              "#46039f"
             ],
             [
              0.2222222222222222,
              "#7201a8"
             ],
             [
              0.3333333333333333,
              "#9c179e"
             ],
             [
              0.4444444444444444,
              "#bd3786"
             ],
             [
              0.5555555555555556,
              "#d8576b"
             ],
             [
              0.6666666666666666,
              "#ed7953"
             ],
             [
              0.7777777777777778,
              "#fb9f3a"
             ],
             [
              0.8888888888888888,
              "#fdca26"
             ],
             [
              1,
              "#f0f921"
             ]
            ],
            "type": "histogram2d"
           }
          ],
          "histogram2dcontour": [
           {
            "colorbar": {
             "outlinewidth": 0,
             "ticks": ""
            },
            "colorscale": [
             [
              0,
              "#0d0887"
             ],
             [
              0.1111111111111111,
              "#46039f"
             ],
             [
              0.2222222222222222,
              "#7201a8"
             ],
             [
              0.3333333333333333,
              "#9c179e"
             ],
             [
              0.4444444444444444,
              "#bd3786"
             ],
             [
              0.5555555555555556,
              "#d8576b"
             ],
             [
              0.6666666666666666,
              "#ed7953"
             ],
             [
              0.7777777777777778,
              "#fb9f3a"
             ],
             [
              0.8888888888888888,
              "#fdca26"
             ],
             [
              1,
              "#f0f921"
             ]
            ],
            "type": "histogram2dcontour"
           }
          ],
          "mesh3d": [
           {
            "colorbar": {
             "outlinewidth": 0,
             "ticks": ""
            },
            "type": "mesh3d"
           }
          ],
          "parcoords": [
           {
            "line": {
             "colorbar": {
              "outlinewidth": 0,
              "ticks": ""
             }
            },
            "type": "parcoords"
           }
          ],
          "pie": [
           {
            "automargin": true,
            "type": "pie"
           }
          ],
          "scatter": [
           {
            "fillpattern": {
             "fillmode": "overlay",
             "size": 10,
             "solidity": 0.2
            },
            "type": "scatter"
           }
          ],
          "scatter3d": [
           {
            "line": {
             "colorbar": {
              "outlinewidth": 0,
              "ticks": ""
             }
            },
            "marker": {
             "colorbar": {
              "outlinewidth": 0,
              "ticks": ""
             }
            },
            "type": "scatter3d"
           }
          ],
          "scattercarpet": [
           {
            "marker": {
             "colorbar": {
              "outlinewidth": 0,
              "ticks": ""
             }
            },
            "type": "scattercarpet"
           }
          ],
          "scattergeo": [
           {
            "marker": {
             "colorbar": {
              "outlinewidth": 0,
              "ticks": ""
             }
            },
            "type": "scattergeo"
           }
          ],
          "scattergl": [
           {
            "marker": {
             "colorbar": {
              "outlinewidth": 0,
              "ticks": ""
             }
            },
            "type": "scattergl"
           }
          ],
          "scattermapbox": [
           {
            "marker": {
             "colorbar": {
              "outlinewidth": 0,
              "ticks": ""
             }
            },
            "type": "scattermapbox"
           }
          ],
          "scatterpolar": [
           {
            "marker": {
             "colorbar": {
              "outlinewidth": 0,
              "ticks": ""
             }
            },
            "type": "scatterpolar"
           }
          ],
          "scatterpolargl": [
           {
            "marker": {
             "colorbar": {
              "outlinewidth": 0,
              "ticks": ""
             }
            },
            "type": "scatterpolargl"
           }
          ],
          "scatterternary": [
           {
            "marker": {
             "colorbar": {
              "outlinewidth": 0,
              "ticks": ""
             }
            },
            "type": "scatterternary"
           }
          ],
          "surface": [
           {
            "colorbar": {
             "outlinewidth": 0,
             "ticks": ""
            },
            "colorscale": [
             [
              0,
              "#0d0887"
             ],
             [
              0.1111111111111111,
              "#46039f"
             ],
             [
              0.2222222222222222,
              "#7201a8"
             ],
             [
              0.3333333333333333,
              "#9c179e"
             ],
             [
              0.4444444444444444,
              "#bd3786"
             ],
             [
              0.5555555555555556,
              "#d8576b"
             ],
             [
              0.6666666666666666,
              "#ed7953"
             ],
             [
              0.7777777777777778,
              "#fb9f3a"
             ],
             [
              0.8888888888888888,
              "#fdca26"
             ],
             [
              1,
              "#f0f921"
             ]
            ],
            "type": "surface"
           }
          ],
          "table": [
           {
            "cells": {
             "fill": {
              "color": "#EBF0F8"
             },
             "line": {
              "color": "white"
             }
            },
            "header": {
             "fill": {
              "color": "#C8D4E3"
             },
             "line": {
              "color": "white"
             }
            },
            "type": "table"
           }
          ]
         },
         "layout": {
          "annotationdefaults": {
           "arrowcolor": "#2a3f5f",
           "arrowhead": 0,
           "arrowwidth": 1
          },
          "autotypenumbers": "strict",
          "coloraxis": {
           "colorbar": {
            "outlinewidth": 0,
            "ticks": ""
           }
          },
          "colorscale": {
           "diverging": [
            [
             0,
             "#8e0152"
            ],
            [
             0.1,
             "#c51b7d"
            ],
            [
             0.2,
             "#de77ae"
            ],
            [
             0.3,
             "#f1b6da"
            ],
            [
             0.4,
             "#fde0ef"
            ],
            [
             0.5,
             "#f7f7f7"
            ],
            [
             0.6,
             "#e6f5d0"
            ],
            [
             0.7,
             "#b8e186"
            ],
            [
             0.8,
             "#7fbc41"
            ],
            [
             0.9,
             "#4d9221"
            ],
            [
             1,
             "#276419"
            ]
           ],
           "sequential": [
            [
             0,
             "#0d0887"
            ],
            [
             0.1111111111111111,
             "#46039f"
            ],
            [
             0.2222222222222222,
             "#7201a8"
            ],
            [
             0.3333333333333333,
             "#9c179e"
            ],
            [
             0.4444444444444444,
             "#bd3786"
            ],
            [
             0.5555555555555556,
             "#d8576b"
            ],
            [
             0.6666666666666666,
             "#ed7953"
            ],
            [
             0.7777777777777778,
             "#fb9f3a"
            ],
            [
             0.8888888888888888,
             "#fdca26"
            ],
            [
             1,
             "#f0f921"
            ]
           ],
           "sequentialminus": [
            [
             0,
             "#0d0887"
            ],
            [
             0.1111111111111111,
             "#46039f"
            ],
            [
             0.2222222222222222,
             "#7201a8"
            ],
            [
             0.3333333333333333,
             "#9c179e"
            ],
            [
             0.4444444444444444,
             "#bd3786"
            ],
            [
             0.5555555555555556,
             "#d8576b"
            ],
            [
             0.6666666666666666,
             "#ed7953"
            ],
            [
             0.7777777777777778,
             "#fb9f3a"
            ],
            [
             0.8888888888888888,
             "#fdca26"
            ],
            [
             1,
             "#f0f921"
            ]
           ]
          },
          "colorway": [
           "#636efa",
           "#EF553B",
           "#00cc96",
           "#ab63fa",
           "#FFA15A",
           "#19d3f3",
           "#FF6692",
           "#B6E880",
           "#FF97FF",
           "#FECB52"
          ],
          "font": {
           "color": "#2a3f5f"
          },
          "geo": {
           "bgcolor": "white",
           "lakecolor": "white",
           "landcolor": "#E5ECF6",
           "showlakes": true,
           "showland": true,
           "subunitcolor": "white"
          },
          "hoverlabel": {
           "align": "left"
          },
          "hovermode": "closest",
          "mapbox": {
           "style": "light"
          },
          "paper_bgcolor": "white",
          "plot_bgcolor": "#E5ECF6",
          "polar": {
           "angularaxis": {
            "gridcolor": "white",
            "linecolor": "white",
            "ticks": ""
           },
           "bgcolor": "#E5ECF6",
           "radialaxis": {
            "gridcolor": "white",
            "linecolor": "white",
            "ticks": ""
           }
          },
          "scene": {
           "xaxis": {
            "backgroundcolor": "#E5ECF6",
            "gridcolor": "white",
            "gridwidth": 2,
            "linecolor": "white",
            "showbackground": true,
            "ticks": "",
            "zerolinecolor": "white"
           },
           "yaxis": {
            "backgroundcolor": "#E5ECF6",
            "gridcolor": "white",
            "gridwidth": 2,
            "linecolor": "white",
            "showbackground": true,
            "ticks": "",
            "zerolinecolor": "white"
           },
           "zaxis": {
            "backgroundcolor": "#E5ECF6",
            "gridcolor": "white",
            "gridwidth": 2,
            "linecolor": "white",
            "showbackground": true,
            "ticks": "",
            "zerolinecolor": "white"
           }
          },
          "shapedefaults": {
           "line": {
            "color": "#2a3f5f"
           }
          },
          "ternary": {
           "aaxis": {
            "gridcolor": "white",
            "linecolor": "white",
            "ticks": ""
           },
           "baxis": {
            "gridcolor": "white",
            "linecolor": "white",
            "ticks": ""
           },
           "bgcolor": "#E5ECF6",
           "caxis": {
            "gridcolor": "white",
            "linecolor": "white",
            "ticks": ""
           }
          },
          "title": {
           "x": 0.05
          },
          "xaxis": {
           "automargin": true,
           "gridcolor": "white",
           "linecolor": "white",
           "ticks": "",
           "title": {
            "standoff": 15
           },
           "zerolinecolor": "white",
           "zerolinewidth": 2
          },
          "yaxis": {
           "automargin": true,
           "gridcolor": "white",
           "linecolor": "white",
           "ticks": "",
           "title": {
            "standoff": 15
           },
           "zerolinecolor": "white",
           "zerolinewidth": 2
          }
         }
        },
        "title": {
         "text": "DHT22 Data - Top 10 and Bottom 10 Humidity Removed"
        },
        "xaxis": {
         "anchor": "y",
         "domain": [
          0,
          1
         ],
         "title": {
          "text": "temperature"
         }
        },
        "yaxis": {
         "anchor": "x",
         "domain": [
          0,
          1
         ],
         "title": {
          "text": "humidity"
         }
        }
       }
      }
     },
     "metadata": {},
     "output_type": "display_data"
    }
   ],
   "source": [
    "# step 3 - create Linear Regression\n",
    "df = lessData\n",
    "X30 = df.temperature.values.reshape(-1, 1)\n",
    "\n",
    "# create Linear Regression\n",
    "modelRemoved30 = LinearRegression()\n",
    "# train model with humidity data\n",
    "modelRemoved30.fit(X30, df.humidity)\n",
    "\n",
    "# Step 4 - find the min and max temperature\n",
    "minTemp: float = X30.min()\n",
    "maxTemp: float = X30.max()\n",
    "testTemp = np.linspace(minTemp, maxTemp, 100)\n",
    "predictHumidity = modelRemoved30.predict(testTemp.reshape(-1, 1))\n",
    "\n",
    "# step 5 - plot\n",
    "testData = {'temperature': testTemp, 'humidity': predictHumidity}\n",
    "testDF = pd.DataFrame(data=testData)\n",
    "\n",
    "fig = px.scatter(df, x='temperature', y='humidity', opacity=0.65, title='DHT22 Data - Top 10 and Bottom 10 Humidity Removed')\n",
    "fig.add_traces(go.Scatter(x=testDF['temperature'], y=testDF['humidity'], mode='markers', name='Test Data'))\n",
    "fig.add_traces(go.Scatter(x=testTemp, y=predictHumidity, name='Test Data Fit'))\n",
    "fig.show()"
   ]
  },
  {
   "cell_type": "code",
   "execution_count": null,
   "metadata": {},
   "outputs": [],
   "source": []
  }
 ],
 "metadata": {
  "kernelspec": {
   "display_name": ".venv",
   "language": "python",
   "name": "python3"
  },
  "language_info": {
   "codemirror_mode": {
    "name": "ipython",
    "version": 3
   },
   "file_extension": ".py",
   "mimetype": "text/x-python",
   "name": "python",
   "nbconvert_exporter": "python",
   "pygments_lexer": "ipython3",
   "version": "3.12.4"
  }
 },
 "nbformat": 4,
 "nbformat_minor": 2
}
