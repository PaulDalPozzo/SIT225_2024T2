{
 "cells": [
  {
   "cell_type": "markdown",
   "metadata": {},
   "source": [
    "# Task 5.1P\n",
    "\n",
    "### Objective\n",
    "Step 1: Record Gyroscope data from Arduino Nano. \n",
    "\n",
    "Step 2: Pass the data to a Python script (either through serial communication or Arduino IoT Cloud synchronization). \n",
    "\n",
    "Step 3: Python script uploads the data to Firebase as soon as data is received."
   ]
  },
  {
   "cell_type": "code",
   "execution_count": 2,
   "metadata": {},
   "outputs": [
    {
     "name": "stdout",
     "output_type": "stream",
     "text": [
      "s214527809 Paul Dal Pozzo\n"
     ]
    }
   ],
   "source": [
    "#  Paul Dal Pozzo\n",
    "#  s214527809\n",
    "#  SIT225 - Data Capture Technologies\n",
    "#  Week 05\n",
    "#  Task 5.1P\n",
    "\n",
    "student_id = \"s214527809\"\n",
    "student_first_last_name = \"Paul Dal Pozzo\"\n",
    "print(student_id, student_first_last_name)"
   ]
  },
  {
   "cell_type": "code",
   "execution_count": 1,
   "metadata": {},
   "outputs": [
    {
     "name": "stdout",
     "output_type": "stream",
     "text": [
      "Requirement already satisfied: firebase_admin in c:\\users\\user\\anaconda3\\lib\\site-packages (6.5.0)\n",
      "Requirement already satisfied: cachecontrol>=0.12.6 in c:\\users\\user\\anaconda3\\lib\\site-packages (from firebase_admin) (0.14.0)\n",
      "Requirement already satisfied: google-api-python-client>=1.7.8 in c:\\users\\user\\anaconda3\\lib\\site-packages (from firebase_admin) (2.139.0)\n",
      "Requirement already satisfied: google-cloud-storage>=1.37.1 in c:\\users\\user\\anaconda3\\lib\\site-packages (from firebase_admin) (2.18.0)\n",
      "Requirement already satisfied: pyjwt>=2.5.0 in c:\\users\\user\\anaconda3\\lib\\site-packages (from pyjwt[crypto]>=2.5.0->firebase_admin) (2.8.0)\n",
      "Requirement already satisfied: google-api-core<3.0.0dev,>=1.22.1 in c:\\users\\user\\anaconda3\\lib\\site-packages (from google-api-core[grpc]<3.0.0dev,>=1.22.1; platform_python_implementation != \"PyPy\"->firebase_admin) (2.19.1)\n",
      "Requirement already satisfied: google-cloud-firestore>=2.9.1 in c:\\users\\user\\anaconda3\\lib\\site-packages (from firebase_admin) (2.17.0)\n",
      "Requirement already satisfied: requests>=2.16.0 in c:\\users\\user\\anaconda3\\lib\\site-packages (from cachecontrol>=0.12.6->firebase_admin) (2.32.2)\n",
      "Requirement already satisfied: msgpack<2.0.0,>=0.5.2 in c:\\users\\user\\anaconda3\\lib\\site-packages (from cachecontrol>=0.12.6->firebase_admin) (1.0.3)\n",
      "Requirement already satisfied: googleapis-common-protos<2.0.dev0,>=1.56.2 in c:\\users\\user\\anaconda3\\lib\\site-packages (from google-api-core<3.0.0dev,>=1.22.1->google-api-core[grpc]<3.0.0dev,>=1.22.1; platform_python_implementation != \"PyPy\"->firebase_admin) (1.63.2)\n",
      "Requirement already satisfied: protobuf!=3.20.0,!=3.20.1,!=4.21.0,!=4.21.1,!=4.21.2,!=4.21.3,!=4.21.4,!=4.21.5,<6.0.0.dev0,>=3.19.5 in c:\\users\\user\\anaconda3\\lib\\site-packages (from google-api-core<3.0.0dev,>=1.22.1->google-api-core[grpc]<3.0.0dev,>=1.22.1; platform_python_implementation != \"PyPy\"->firebase_admin) (4.25.4)\n",
      "Requirement already satisfied: proto-plus<2.0.0dev,>=1.22.3 in c:\\users\\user\\anaconda3\\lib\\site-packages (from google-api-core<3.0.0dev,>=1.22.1->google-api-core[grpc]<3.0.0dev,>=1.22.1; platform_python_implementation != \"PyPy\"->firebase_admin) (1.24.0)\n",
      "Requirement already satisfied: google-auth<3.0.dev0,>=2.14.1 in c:\\users\\user\\anaconda3\\lib\\site-packages (from google-api-core<3.0.0dev,>=1.22.1->google-api-core[grpc]<3.0.0dev,>=1.22.1; platform_python_implementation != \"PyPy\"->firebase_admin) (2.32.0)\n",
      "Requirement already satisfied: grpcio<2.0dev,>=1.33.2 in c:\\users\\user\\anaconda3\\lib\\site-packages (from google-api-core[grpc]<3.0.0dev,>=1.22.1; platform_python_implementation != \"PyPy\"->firebase_admin) (1.65.4)\n",
      "Requirement already satisfied: grpcio-status<2.0.dev0,>=1.33.2 in c:\\users\\user\\anaconda3\\lib\\site-packages (from google-api-core[grpc]<3.0.0dev,>=1.22.1; platform_python_implementation != \"PyPy\"->firebase_admin) (1.62.2)\n",
      "Requirement already satisfied: httplib2<1.dev0,>=0.19.0 in c:\\users\\user\\anaconda3\\lib\\site-packages (from google-api-python-client>=1.7.8->firebase_admin) (0.22.0)\n",
      "Requirement already satisfied: google-auth-httplib2<1.0.0,>=0.2.0 in c:\\users\\user\\anaconda3\\lib\\site-packages (from google-api-python-client>=1.7.8->firebase_admin) (0.2.0)\n",
      "Requirement already satisfied: uritemplate<5,>=3.0.1 in c:\\users\\user\\anaconda3\\lib\\site-packages (from google-api-python-client>=1.7.8->firebase_admin) (4.1.1)\n",
      "Requirement already satisfied: google-cloud-core<3.0.0dev,>=1.4.1 in c:\\users\\user\\anaconda3\\lib\\site-packages (from google-cloud-firestore>=2.9.1->firebase_admin) (2.4.1)\n",
      "Requirement already satisfied: google-resumable-media>=2.6.0 in c:\\users\\user\\anaconda3\\lib\\site-packages (from google-cloud-storage>=1.37.1->firebase_admin) (2.7.1)\n",
      "Requirement already satisfied: google-crc32c<2.0dev,>=1.0 in c:\\users\\user\\anaconda3\\lib\\site-packages (from google-cloud-storage>=1.37.1->firebase_admin) (1.5.0)\n",
      "Requirement already satisfied: cryptography>=3.4.0 in c:\\users\\user\\anaconda3\\lib\\site-packages (from pyjwt[crypto]>=2.5.0->firebase_admin) (42.0.5)\n",
      "Requirement already satisfied: cffi>=1.12 in c:\\users\\user\\anaconda3\\lib\\site-packages (from cryptography>=3.4.0->pyjwt[crypto]>=2.5.0->firebase_admin) (1.16.0)\n",
      "Requirement already satisfied: cachetools<6.0,>=2.0.0 in c:\\users\\user\\anaconda3\\lib\\site-packages (from google-auth<3.0.dev0,>=2.14.1->google-api-core<3.0.0dev,>=1.22.1->google-api-core[grpc]<3.0.0dev,>=1.22.1; platform_python_implementation != \"PyPy\"->firebase_admin) (5.3.3)\n",
      "Requirement already satisfied: pyasn1-modules>=0.2.1 in c:\\users\\user\\anaconda3\\lib\\site-packages (from google-auth<3.0.dev0,>=2.14.1->google-api-core<3.0.0dev,>=1.22.1->google-api-core[grpc]<3.0.0dev,>=1.22.1; platform_python_implementation != \"PyPy\"->firebase_admin) (0.2.8)\n",
      "Requirement already satisfied: rsa<5,>=3.1.4 in c:\\users\\user\\anaconda3\\lib\\site-packages (from google-auth<3.0.dev0,>=2.14.1->google-api-core<3.0.0dev,>=1.22.1->google-api-core[grpc]<3.0.0dev,>=1.22.1; platform_python_implementation != \"PyPy\"->firebase_admin) (4.9)\n",
      "Requirement already satisfied: pyparsing!=3.0.0,!=3.0.1,!=3.0.2,!=3.0.3,<4,>=2.4.2 in c:\\users\\user\\anaconda3\\lib\\site-packages (from httplib2<1.dev0,>=0.19.0->google-api-python-client>=1.7.8->firebase_admin) (3.0.9)\n",
      "Requirement already satisfied: charset-normalizer<4,>=2 in c:\\users\\user\\anaconda3\\lib\\site-packages (from requests>=2.16.0->cachecontrol>=0.12.6->firebase_admin) (2.0.4)\n",
      "Requirement already satisfied: idna<4,>=2.5 in c:\\users\\user\\anaconda3\\lib\\site-packages (from requests>=2.16.0->cachecontrol>=0.12.6->firebase_admin) (3.7)\n",
      "Requirement already satisfied: urllib3<3,>=1.21.1 in c:\\users\\user\\anaconda3\\lib\\site-packages (from requests>=2.16.0->cachecontrol>=0.12.6->firebase_admin) (2.2.2)\n",
      "Requirement already satisfied: certifi>=2017.4.17 in c:\\users\\user\\anaconda3\\lib\\site-packages (from requests>=2.16.0->cachecontrol>=0.12.6->firebase_admin) (2024.7.4)\n",
      "Requirement already satisfied: pycparser in c:\\users\\user\\anaconda3\\lib\\site-packages (from cffi>=1.12->cryptography>=3.4.0->pyjwt[crypto]>=2.5.0->firebase_admin) (2.21)\n",
      "Requirement already satisfied: pyasn1<0.5.0,>=0.4.6 in c:\\users\\user\\anaconda3\\lib\\site-packages (from pyasn1-modules>=0.2.1->google-auth<3.0.dev0,>=2.14.1->google-api-core<3.0.0dev,>=1.22.1->google-api-core[grpc]<3.0.0dev,>=1.22.1; platform_python_implementation != \"PyPy\"->firebase_admin) (0.4.8)\n",
      "Note: you may need to restart the kernel to use updated packages.\n"
     ]
    }
   ],
   "source": [
    "pip install firebase_admin"
   ]
  },
  {
   "cell_type": "markdown",
   "metadata": {},
   "source": [
    "### Imports"
   ]
  },
  {
   "cell_type": "code",
   "execution_count": 1,
   "metadata": {},
   "outputs": [],
   "source": [
    "import pandas as pd\n",
    "import sys\n",
    "import traceback\n",
    "import csv\n",
    "import json\n",
    "import os.path\n",
    "import firebase_admin\n",
    "from firebase_admin import db\n",
    "from datetime import datetime\n",
    "from datetime import datetime\n",
    "from arduino_iot_cloud import ArduinoCloudClient"
   ]
  },
  {
   "cell_type": "markdown",
   "metadata": {},
   "source": [
    "### Global Variables"
   ]
  },
  {
   "cell_type": "code",
   "execution_count": 4,
   "metadata": {},
   "outputs": [],
   "source": [
    "# global variables for gyroscope\n",
    "xAxis: float = 1\n",
    "yAxis: float = 1\n",
    "zAxis: float = 1\n",
    "\n",
    "# JSON file name\n",
    "GYROSCOPE_JSON: str = 'GyroscopeData.json'\n",
    "# CSV file name\n",
    "GYROSCOPE_CSV: str = 'GyroscopeData.csv'\n",
    "# CSV field names\n",
    "FIELDS: list[str] = ['timestamp','x_axis','y_axis','z_axis']\n",
    "# firebase credentials file\n",
    "FIREBASE_CREDENTIALS_FILE: str = 'myfirstfirebase-a11cc-firebase-adminsdk-gnekq-04fb6ad8e3.json'\n",
    "# firebase url\n",
    "DATABASE_URL = 'https://myfirstfirebase-a11cc-default-rtdb.firebaseio.com/'\n",
    "# arduino device ID and key\n",
    "DEVICE_ID = b\"fe409287-52b1-4db8-a582-214410f61c25\"\n",
    "SECRET_KEY = b\"WTI219F0gt0iHRxbWOawBu8g3\""
   ]
  },
  {
   "cell_type": "markdown",
   "metadata": {},
   "source": [
    "### Functions\n",
    "\n",
    "**get_time_stamp()** - returns a datetime of datetime.now()\n",
    "\n",
    "**send_to_firebase()** - formats the current data, updates to Firebase\n",
    "\n",
    "**on_x_changed(client, value)** - triggered when a new x axis value is sent to Arduino Cloud\n",
    "\n",
    "**on_y_changed(client, value)** - triggered when a new y axis value is sent to Arduino Cloud\n",
    "\n",
    "**on_z_changed(client, value)** - triggered when a new z axis value is sent to Arduino Cloud\n",
    "\n",
    "**connect_to_firebase()** - connects to the firebase database\n",
    "\n",
    "**connect_to_arduino()** - connects to the Arduino IoT client\n",
    "\n",
    "**main()** - the main code executed"
   ]
  },
  {
   "cell_type": "code",
   "execution_count": 10,
   "metadata": {},
   "outputs": [],
   "source": [
    "def get_time_stamp() -> datetime:\n",
    "    # now stores current time\n",
    "    now: datetime = datetime.now()\n",
    "    # timeStamp stores timestamp of current time\n",
    "    timeStamp: datetime = now.timestamp()\n",
    "    return timeStamp"
   ]
  },
  {
   "cell_type": "code",
   "execution_count": 11,
   "metadata": {},
   "outputs": [],
   "source": [
    "def send_to_firebase():\n",
    "    timeStamp: datetime = get_time_stamp()\n",
    "    # for testing purposes\n",
    "    print(f\"{timeStamp}: X: {xAxis}, Y: {yAxis}, Z: {zAxis}\") \n",
    "    # prepare data for sending to Firebase\n",
    "    newData = {\n",
    "        \"timestamp\": timeStamp, \n",
    "        \"x_axis\": xAxis, \n",
    "        \"y_axis\": yAxis, \n",
    "        \"z_axis\": zAxis\n",
    "    }\n",
    "\n",
    "    ref = db.reference(\"/Gyroscope\")\n",
    "    ref.push().update(newData)"
   ]
  },
  {
   "cell_type": "code",
   "execution_count": 12,
   "metadata": {},
   "outputs": [],
   "source": [
    "# Callback functions on change event.\n",
    "def on_x_changed(client, value: float) -> None:\n",
    "    global xAxis\n",
    "    xAxis = value\n",
    "    send_to_firebase()\n",
    "\n",
    "def on_y_changed(client, value: float) -> None:\n",
    "    global yAxis\n",
    "    yAxis = value\n",
    "    send_to_firebase()\n",
    "\n",
    "def on_z_changed(client, value: float) -> None:\n",
    "    global zAxis\n",
    "    zAxis = value\n",
    "    send_to_firebase()"
   ]
  },
  {
   "cell_type": "code",
   "execution_count": 10,
   "metadata": {},
   "outputs": [],
   "source": [
    "\n",
    "if (os.path.isfile(FIREBASE_CREDENTIALS_FILE)) :\n",
    "    cred_obj = firebase_admin.credentials.Certificate(\n",
    "        FIREBASE_CREDENTIALS_FILE\n",
    "    )\n",
    "# initialize connection\n",
    "default_app = firebase_admin.initialize_app(cred_obj, {\n",
    "    'databaseURL':DATABASE_URL\n",
    "    })\n"
   ]
  },
  {
   "cell_type": "code",
   "execution_count": null,
   "metadata": {},
   "outputs": [],
   "source": [
    "def connect_to_firebase() -> None:\n",
    "    print(\"Connect to Firebase\")\n",
    "    # checking that Firebase data file exists\n",
    "    if (os.path.isfile(FIREBASE_CREDENTIALS_FILE)) :\n",
    "        cred_obj = firebase_admin.credentials.Certificate(\n",
    "            FIREBASE_CREDENTIALS_FILE\n",
    "        )\n",
    "    # initialize connection\n",
    "    default_app = firebase_admin.initialize_app(cred_obj, {\n",
    "        'databaseURL':DATABASE_URL\n",
    "        })\n",
    "    \n",
    "    # get reference to Firebase Data\n",
    "    # create a folder for Gyroscope\n",
    "    ref = db.reference(\"/\")\n",
    "    ref.set({\n",
    "        \"Gyroscope\": -1\n",
    "    })"
   ]
  },
  {
   "cell_type": "code",
   "execution_count": 14,
   "metadata": {},
   "outputs": [],
   "source": [
    "def connect_to_arduino() ->  None:\n",
    "    print(\"Connect to Client\")\n",
    "    # register all axis value changes for on cloud sync\n",
    "    client = ArduinoCloudClient(device_id=DEVICE_ID, username=DEVICE_ID, password=SECRET_KEY)\n",
    "    client.register(\"x_ax\", value=None, on_write=on_x_changed)\n",
    "    client.register(\"y_ax\", value=None, on_write=on_y_changed)\n",
    "    client.register(\"z_ax\", value=None, on_write=on_z_changed)\n",
    "    # start cloud client\n",
    "    client.start()"
   ]
  },
  {
   "cell_type": "code",
   "execution_count": 15,
   "metadata": {},
   "outputs": [],
   "source": [
    "def main():\n",
    "    connect_to_firebase() \n",
    "    connect_to_arduino()"
   ]
  },
  {
   "cell_type": "markdown",
   "metadata": {},
   "source": [
    "### Main Block"
   ]
  },
  {
   "cell_type": "code",
   "execution_count": 13,
   "metadata": {},
   "outputs": [
    {
     "name": "stdout",
     "output_type": "stream",
     "text": [
      "Connect to Client\n"
     ]
    },
    {
     "ename": "AttributeError",
     "evalue": "type object 'RuntimeError' has no attribute 'tb_frame'",
     "output_type": "error",
     "traceback": [
      "\u001b[1;31m---------------------------------------------------------------------------\u001b[0m",
      "\u001b[1;31mRuntimeError\u001b[0m                              Traceback (most recent call last)",
      "Cell \u001b[1;32mIn[13], line 3\u001b[0m\n\u001b[0;32m      2\u001b[0m \u001b[38;5;28;01mtry\u001b[39;00m:\n\u001b[1;32m----> 3\u001b[0m     main()  \u001b[38;5;66;03m# main function which runs in an internal infinite loop\u001b[39;00m\n\u001b[0;32m      4\u001b[0m \u001b[38;5;28;01mexcept\u001b[39;00m:\n",
      "Cell \u001b[1;32mIn[12], line 14\u001b[0m, in \u001b[0;36mmain\u001b[1;34m()\u001b[0m\n\u001b[0;32m      1\u001b[0m \u001b[38;5;28;01mdef\u001b[39;00m \u001b[38;5;21mmain\u001b[39m():\n\u001b[0;32m      2\u001b[0m     \u001b[38;5;66;03m#print(\"Connect to Client\")\u001b[39;00m\n\u001b[0;32m      3\u001b[0m     \u001b[38;5;66;03m## register all axis value changes for on cloud sync\u001b[39;00m\n\u001b[1;32m   (...)\u001b[0m\n\u001b[0;32m     12\u001b[0m     \u001b[38;5;66;03m## start cloud client\u001b[39;00m\n\u001b[0;32m     13\u001b[0m     \u001b[38;5;66;03m#client.start()\u001b[39;00m\n\u001b[1;32m---> 14\u001b[0m     connect_to_arduino()\n\u001b[0;32m     16\u001b[0m     \u001b[38;5;66;03m# get reference to Firebase Data\u001b[39;00m\n\u001b[0;32m     17\u001b[0m     \u001b[38;5;66;03m# create a folder for Gyroscope\u001b[39;00m\n",
      "Cell \u001b[1;32mIn[11], line 9\u001b[0m, in \u001b[0;36mconnect_to_arduino\u001b[1;34m()\u001b[0m\n\u001b[0;32m      8\u001b[0m \u001b[38;5;66;03m# start cloud client\u001b[39;00m\n\u001b[1;32m----> 9\u001b[0m client\u001b[38;5;241m.\u001b[39mstart()\n",
      "File \u001b[1;32mc:\\Users\\User\\anaconda3\\Lib\\site-packages\\arduino_iot_cloud\\ucloud.py:438\u001b[0m, in \u001b[0;36mArduinoCloudClient.start\u001b[1;34m(self, interval, backoff)\u001b[0m\n\u001b[0;32m    437\u001b[0m \u001b[38;5;28;01mif\u001b[39;00m \u001b[38;5;28mself\u001b[39m\u001b[38;5;241m.\u001b[39masync_mode:\n\u001b[1;32m--> 438\u001b[0m     asyncio\u001b[38;5;241m.\u001b[39mrun(\u001b[38;5;28mself\u001b[39m\u001b[38;5;241m.\u001b[39mrun(interval, backoff))\n\u001b[0;32m    439\u001b[0m     \u001b[38;5;28;01mreturn\u001b[39;00m\n",
      "File \u001b[1;32mc:\\Users\\User\\anaconda3\\Lib\\asyncio\\runners.py:190\u001b[0m, in \u001b[0;36mrun\u001b[1;34m(main, debug, loop_factory)\u001b[0m\n\u001b[0;32m    188\u001b[0m \u001b[38;5;28;01mif\u001b[39;00m events\u001b[38;5;241m.\u001b[39m_get_running_loop() \u001b[38;5;129;01mis\u001b[39;00m \u001b[38;5;129;01mnot\u001b[39;00m \u001b[38;5;28;01mNone\u001b[39;00m:\n\u001b[0;32m    189\u001b[0m     \u001b[38;5;66;03m# fail fast with short traceback\u001b[39;00m\n\u001b[1;32m--> 190\u001b[0m     \u001b[38;5;28;01mraise\u001b[39;00m \u001b[38;5;167;01mRuntimeError\u001b[39;00m(\n\u001b[0;32m    191\u001b[0m         \u001b[38;5;124m\"\u001b[39m\u001b[38;5;124masyncio.run() cannot be called from a running event loop\u001b[39m\u001b[38;5;124m\"\u001b[39m)\n\u001b[0;32m    193\u001b[0m \u001b[38;5;28;01mwith\u001b[39;00m Runner(debug\u001b[38;5;241m=\u001b[39mdebug, loop_factory\u001b[38;5;241m=\u001b[39mloop_factory) \u001b[38;5;28;01mas\u001b[39;00m runner:\n",
      "\u001b[1;31mRuntimeError\u001b[0m: asyncio.run() cannot be called from a running event loop",
      "\nDuring handling of the above exception, another exception occurred:\n",
      "\u001b[1;31mAttributeError\u001b[0m                            Traceback (most recent call last)",
      "Cell \u001b[1;32mIn[13], line 6\u001b[0m\n\u001b[0;32m      4\u001b[0m \u001b[38;5;28;01mexcept\u001b[39;00m:\n\u001b[0;32m      5\u001b[0m     exc_type, exc_value, exc_traceback \u001b[38;5;241m=\u001b[39m sys\u001b[38;5;241m.\u001b[39mexc_info()\n\u001b[1;32m----> 6\u001b[0m     traceback\u001b[38;5;241m.\u001b[39mprint_tb(exc_type, file\u001b[38;5;241m=\u001b[39m\u001b[38;5;28mprint\u001b[39m)\n",
      "File \u001b[1;32mc:\\Users\\User\\anaconda3\\Lib\\traceback.py:55\u001b[0m, in \u001b[0;36mprint_tb\u001b[1;34m(tb, limit, file)\u001b[0m\n\u001b[0;32m     47\u001b[0m \u001b[38;5;28;01mdef\u001b[39;00m \u001b[38;5;21mprint_tb\u001b[39m(tb, limit\u001b[38;5;241m=\u001b[39m\u001b[38;5;28;01mNone\u001b[39;00m, file\u001b[38;5;241m=\u001b[39m\u001b[38;5;28;01mNone\u001b[39;00m):\n\u001b[0;32m     48\u001b[0m \u001b[38;5;250m    \u001b[39m\u001b[38;5;124;03m\"\"\"Print up to 'limit' stack trace entries from the traceback 'tb'.\u001b[39;00m\n\u001b[0;32m     49\u001b[0m \n\u001b[0;32m     50\u001b[0m \u001b[38;5;124;03m    If 'limit' is omitted or None, all entries are printed.  If 'file'\u001b[39;00m\n\u001b[1;32m   (...)\u001b[0m\n\u001b[0;32m     53\u001b[0m \u001b[38;5;124;03m    method.\u001b[39;00m\n\u001b[0;32m     54\u001b[0m \u001b[38;5;124;03m    \"\"\"\u001b[39;00m\n\u001b[1;32m---> 55\u001b[0m     print_list(extract_tb(tb, limit\u001b[38;5;241m=\u001b[39mlimit), file\u001b[38;5;241m=\u001b[39mfile)\n",
      "File \u001b[1;32mc:\\Users\\User\\anaconda3\\Lib\\traceback.py:74\u001b[0m, in \u001b[0;36mextract_tb\u001b[1;34m(tb, limit)\u001b[0m\n\u001b[0;32m     61\u001b[0m \u001b[38;5;28;01mdef\u001b[39;00m \u001b[38;5;21mextract_tb\u001b[39m(tb, limit\u001b[38;5;241m=\u001b[39m\u001b[38;5;28;01mNone\u001b[39;00m):\n\u001b[0;32m     62\u001b[0m \u001b[38;5;250m    \u001b[39m\u001b[38;5;124;03m\"\"\"\u001b[39;00m\n\u001b[0;32m     63\u001b[0m \u001b[38;5;124;03m    Return a StackSummary object representing a list of\u001b[39;00m\n\u001b[0;32m     64\u001b[0m \u001b[38;5;124;03m    pre-processed entries from traceback.\u001b[39;00m\n\u001b[1;32m   (...)\u001b[0m\n\u001b[0;32m     72\u001b[0m \u001b[38;5;124;03m    whitespace stripped; if the source is not available it is None.\u001b[39;00m\n\u001b[0;32m     73\u001b[0m \u001b[38;5;124;03m    \"\"\"\u001b[39;00m\n\u001b[1;32m---> 74\u001b[0m     \u001b[38;5;28;01mreturn\u001b[39;00m StackSummary\u001b[38;5;241m.\u001b[39m_extract_from_extended_frame_gen(\n\u001b[0;32m     75\u001b[0m         _walk_tb_with_full_positions(tb), limit\u001b[38;5;241m=\u001b[39mlimit)\n",
      "File \u001b[1;32mc:\\Users\\User\\anaconda3\\Lib\\traceback.py:418\u001b[0m, in \u001b[0;36mStackSummary._extract_from_extended_frame_gen\u001b[1;34m(klass, frame_gen, limit, lookup_lines, capture_locals)\u001b[0m\n\u001b[0;32m    416\u001b[0m result \u001b[38;5;241m=\u001b[39m klass()\n\u001b[0;32m    417\u001b[0m fnames \u001b[38;5;241m=\u001b[39m \u001b[38;5;28mset\u001b[39m()\n\u001b[1;32m--> 418\u001b[0m \u001b[38;5;28;01mfor\u001b[39;00m f, (lineno, end_lineno, colno, end_colno) \u001b[38;5;129;01min\u001b[39;00m frame_gen:\n\u001b[0;32m    419\u001b[0m     co \u001b[38;5;241m=\u001b[39m f\u001b[38;5;241m.\u001b[39mf_code\n\u001b[0;32m    420\u001b[0m     filename \u001b[38;5;241m=\u001b[39m co\u001b[38;5;241m.\u001b[39mco_filename\n",
      "File \u001b[1;32mc:\\Users\\User\\anaconda3\\Lib\\traceback.py:355\u001b[0m, in \u001b[0;36m_walk_tb_with_full_positions\u001b[1;34m(tb)\u001b[0m\n\u001b[0;32m    351\u001b[0m \u001b[38;5;28;01mdef\u001b[39;00m \u001b[38;5;21m_walk_tb_with_full_positions\u001b[39m(tb):\n\u001b[0;32m    352\u001b[0m     \u001b[38;5;66;03m# Internal version of walk_tb that yields full code positions including\u001b[39;00m\n\u001b[0;32m    353\u001b[0m     \u001b[38;5;66;03m# end line and column information.\u001b[39;00m\n\u001b[0;32m    354\u001b[0m     \u001b[38;5;28;01mwhile\u001b[39;00m tb \u001b[38;5;129;01mis\u001b[39;00m \u001b[38;5;129;01mnot\u001b[39;00m \u001b[38;5;28;01mNone\u001b[39;00m:\n\u001b[1;32m--> 355\u001b[0m         positions \u001b[38;5;241m=\u001b[39m _get_code_position(tb\u001b[38;5;241m.\u001b[39mtb_frame\u001b[38;5;241m.\u001b[39mf_code, tb\u001b[38;5;241m.\u001b[39mtb_lasti)\n\u001b[0;32m    356\u001b[0m         \u001b[38;5;66;03m# Yield tb_lineno when co_positions does not have a line number to\u001b[39;00m\n\u001b[0;32m    357\u001b[0m         \u001b[38;5;66;03m# maintain behavior with walk_tb.\u001b[39;00m\n\u001b[0;32m    358\u001b[0m         \u001b[38;5;28;01mif\u001b[39;00m positions[\u001b[38;5;241m0\u001b[39m] \u001b[38;5;129;01mis\u001b[39;00m \u001b[38;5;28;01mNone\u001b[39;00m:\n",
      "\u001b[1;31mAttributeError\u001b[0m: type object 'RuntimeError' has no attribute 'tb_frame'"
     ]
    }
   ],
   "source": [
    "if __name__ == \"__main__\":\n",
    "    try:\n",
    "        main()  # main function which runs in an internal infinite loop\n",
    "    except:\n",
    "        exc_type, exc_value, exc_traceback = sys.exc_info()\n",
    "        traceback.print_tb(exc_type, file=print)"
   ]
  },
  {
   "cell_type": "markdown",
   "metadata": {},
   "source": [
    "### Gather data from Firebase and place into CSV"
   ]
  },
  {
   "cell_type": "code",
   "execution_count": 11,
   "metadata": {},
   "outputs": [],
   "source": [
    "# retrieve data from Firebase\n",
    "ref = db.reference(\"/\")\n",
    "all_data = ref.get()"
   ]
  },
  {
   "cell_type": "code",
   "execution_count": 12,
   "metadata": {},
   "outputs": [],
   "source": [
    "# add firebase data to a list ready for json file\n",
    "gyro_list = []\n",
    "\n",
    "for i, value in all_data.items():\n",
    "    for key, data in value.items():\n",
    "        gyro_list.append(data)"
   ]
  },
  {
   "cell_type": "code",
   "execution_count": 13,
   "metadata": {},
   "outputs": [
    {
     "name": "stdout",
     "output_type": "stream",
     "text": [
      "New JSON file created\n"
     ]
    }
   ],
   "source": [
    "# check if json file exists\n",
    "pathExists = (os.path.isfile(GYROSCOPE_JSON))\n",
    "if pathExists == False:\n",
    "    # create a csv file\n",
    "    with open(os.path.join('', GYROSCOPE_JSON), 'w', newline='') as csvFile:\n",
    "        print(\"New JSON file created\")\n",
    "# enter data into json file\n",
    "with open(GYROSCOPE_JSON, 'w', encoding='utf-8') as f:\n",
    "    json.dump(gyro_list, f, ensure_ascii=False, indent=4)"
   ]
  },
  {
   "cell_type": "code",
   "execution_count": 14,
   "metadata": {},
   "outputs": [
    {
     "name": "stdout",
     "output_type": "stream",
     "text": [
      "New CSV file created\n"
     ]
    }
   ],
   "source": [
    "# check if csv file exists\n",
    "pathExists = (os.path.isfile(GYROSCOPE_CSV))\n",
    "if pathExists == False:\n",
    "    # create a csv file\n",
    "    with open(GYROSCOPE_CSV, 'w', newline='') as csvFile:\n",
    "        writer = csv.DictWriter(csvFile, fieldnames = FIELDS)\n",
    "        writer.writeheader()\n",
    "        print(\"New CSV file created\")\n",
    "\n",
    "# enter data from json file to csv file\n",
    "df = pd.read_json(GYROSCOPE_JSON)\n",
    "df.to_csv(GYROSCOPE_CSV, encoding='utf-8', index=False)"
   ]
  },
  {
   "cell_type": "markdown",
   "metadata": {},
   "source": [
    "### Clear Firebase Data"
   ]
  },
  {
   "cell_type": "code",
   "execution_count": 9,
   "metadata": {},
   "outputs": [],
   "source": [
    "ref = db.reference(\"/Gyroscope\")\n",
    "ref.set({})"
   ]
  },
  {
   "cell_type": "markdown",
   "metadata": {},
   "source": [
    "### Clear JSON and CSV files"
   ]
  },
  {
   "cell_type": "code",
   "execution_count": 96,
   "metadata": {},
   "outputs": [
    {
     "name": "stdout",
     "output_type": "stream",
     "text": [
      "CSV File Emptied\n",
      "JSON File Emptied\n"
     ]
    }
   ],
   "source": [
    "# check if csv file exists\n",
    "pathExists = (os.path.isfile(GYROSCOPE_CSV))\n",
    "if pathExists == True:\n",
    "    # clear a csv file\n",
    "    with open(GYROSCOPE_CSV, 'w', newline='') as csvFile:\n",
    "        print(\"CSV File Emptied\") \n",
    "\n",
    "\n",
    "# check if json file exists\n",
    "pathExists = (os.path.isfile(GYROSCOPE_JSON))\n",
    "if pathExists == True:\n",
    "    # clear a csv file\n",
    "    with open(GYROSCOPE_JSON, 'w', newline='') as jsonFile:\n",
    "        print(\"JSON File Emptied\") \n"
   ]
  },
  {
   "cell_type": "markdown",
   "metadata": {},
   "source": [
    "### Delete JSON and CSV files"
   ]
  },
  {
   "cell_type": "code",
   "execution_count": 97,
   "metadata": {},
   "outputs": [
    {
     "name": "stdout",
     "output_type": "stream",
     "text": [
      "CSV File Deleted\n",
      "JSON File Deleted\n"
     ]
    }
   ],
   "source": [
    "# delete CSV file\n",
    "file = GYROSCOPE_CSV\n",
    "if(os.path.exists(file) and os.path.isfile(file)): \n",
    "    os.remove(file) \n",
    "    print(\"CSV File Deleted\") \n",
    "else: \n",
    "    print(\"CSV File Not Found\") \n",
    "\n",
    "# delete JSON file\n",
    "file = GYROSCOPE_JSON\n",
    "if(os.path.exists(file) and os.path.isfile(file)): \n",
    "    os.remove(file) \n",
    "    print(\"JSON File Deleted\") \n",
    "else: \n",
    "    print(\"JSON File Not Found\") "
   ]
  },
  {
   "cell_type": "markdown",
   "metadata": {},
   "source": []
  }
 ],
 "metadata": {
  "kernelspec": {
   "display_name": "Python 3 (ipykernel)",
   "language": "python",
   "name": "python3"
  },
  "language_info": {
   "codemirror_mode": {
    "name": "ipython",
    "version": 3
   },
   "file_extension": ".py",
   "mimetype": "text/x-python",
   "name": "python",
   "nbconvert_exporter": "python",
   "pygments_lexer": "ipython3",
   "version": "3.12.4"
  }
 },
 "nbformat": 4,
 "nbformat_minor": 4
}
