{
 "cells": [
  {
   "cell_type": "markdown",
   "metadata": {},
   "source": [
    "# Task 5.1P\n",
    "\n",
    "### Objective\n",
    "Step 1: Record Gyroscope data from Arduino Nano. \n",
    "\n",
    "Step 2: Pass the data to a Python script (either through serial communication or Arduino IoT Cloud synchronization). \n",
    "\n",
    "Step 3: Python script uploads the data to Firebase as soon as data is received."
   ]
  },
  {
   "cell_type": "code",
   "execution_count": 58,
   "metadata": {},
   "outputs": [
    {
     "name": "stdout",
     "output_type": "stream",
     "text": [
      "s214527809 Paul Dal Pozzo\n"
     ]
    }
   ],
   "source": [
    "#  Paul Dal Pozzo\n",
    "#  s214527809\n",
    "#  SIT225 - Data Capture Technologies\n",
    "#  Week 05\n",
    "#  Task 5.1P\n",
    "\n",
    "student_id = \"s214527809\"\n",
    "student_first_last_name = \"Paul Dal Pozzo\"\n",
    "print(student_id, student_first_last_name)"
   ]
  },
  {
   "cell_type": "markdown",
   "metadata": {},
   "source": [
    "### Imports"
   ]
  },
  {
   "cell_type": "code",
   "execution_count": 74,
   "metadata": {},
   "outputs": [],
   "source": [
    "import pandas as pd\n",
    "import sys\n",
    "import traceback\n",
    "import csv\n",
    "import json\n",
    "import os.path\n",
    "import time\n",
    "import firebase_admin\n",
    "from firebase_admin import db\n",
    "from datetime import datetime\n",
    "from datetime import datetime\n",
    "from arduino_iot_cloud import ArduinoCloudClient"
   ]
  },
  {
   "cell_type": "markdown",
   "metadata": {},
   "source": [
    "### Arduino Cloud Information"
   ]
  },
  {
   "cell_type": "code",
   "execution_count": 60,
   "metadata": {},
   "outputs": [],
   "source": [
    "DEVICE_ID = b\"fe409287-52b1-4db8-a582-214410f61c25\"\n",
    "SECRET_KEY = b\"WTI219F0gt0iHRxbWOawBu8g3\""
   ]
  },
  {
   "cell_type": "markdown",
   "metadata": {},
   "source": [
    "### Global Variables"
   ]
  },
  {
   "cell_type": "code",
   "execution_count": 82,
   "metadata": {},
   "outputs": [],
   "source": [
    "\n",
    "xAxis: float = 1\n",
    "yAxis: float = 1\n",
    "zAxis: float = 1\n",
    "\n",
    "GYROSCOPE_JSON: str = 'GyroscopeData.json'\n",
    "GYROSCOPE_CSV: str = 'GyroscopeData.csv'\n",
    "FIELDS: list[str] = ['timestamp','x_axis','y_axis','z_axis']\n",
    "SLEEP_TIME: int = 1         # 1 second\n",
    "SHUTDOWN_TIME: int = 1800   # 30 minutes * 60 seconds = 1800 seconds\n",
    "FIREBASE_CREDENTIALS_FILE: str = 'myfirstfirebase-a11cc-firebase-adminsdk-gnekq-04fb6ad8e3.json'\n",
    "DATABASE_URL = 'https://myfirstfirebase-a11cc-default-rtdb.firebaseio.com/'"
   ]
  },
  {
   "cell_type": "markdown",
   "metadata": {},
   "source": [
    "### Firebase Information"
   ]
  },
  {
   "cell_type": "code",
   "execution_count": 66,
   "metadata": {},
   "outputs": [],
   "source": [
    "# checking that Firebase data file exists\n",
    "if (os.path.isfile(FIREBASE_CREDENTIALS_FILE)) :\n",
    "    cred_obj = firebase_admin.credentials.Certificate(\n",
    "        FIREBASE_CREDENTIALS_FILE\n",
    "    )"
   ]
  },
  {
   "cell_type": "code",
   "execution_count": 67,
   "metadata": {},
   "outputs": [
    {
     "ename": "ValueError",
     "evalue": "The default Firebase app already exists. This means you called initialize_app() more than once without providing an app name as the second argument. In most cases you only need to call initialize_app() once. But if you do want to initialize multiple apps, pass a second argument to initialize_app() to give each app a unique name.",
     "output_type": "error",
     "traceback": [
      "\u001b[1;31m---------------------------------------------------------------------------\u001b[0m",
      "\u001b[1;31mValueError\u001b[0m                                Traceback (most recent call last)",
      "Cell \u001b[1;32mIn[67], line 2\u001b[0m\n\u001b[0;32m      1\u001b[0m \u001b[38;5;66;03m# initialize connection\u001b[39;00m\n\u001b[1;32m----> 2\u001b[0m default_app \u001b[38;5;241m=\u001b[39m firebase_admin\u001b[38;5;241m.\u001b[39minitialize_app(cred_obj, {\n\u001b[0;32m      3\u001b[0m \t\u001b[38;5;124m'\u001b[39m\u001b[38;5;124mdatabaseURL\u001b[39m\u001b[38;5;124m'\u001b[39m:DATABASE_URL\n\u001b[0;32m      4\u001b[0m \t})\n",
      "File \u001b[1;32mc:\\Users\\User\\anaconda3\\Lib\\site-packages\\firebase_admin\\__init__.py:73\u001b[0m, in \u001b[0;36minitialize_app\u001b[1;34m(credential, options, name)\u001b[0m\n\u001b[0;32m     70\u001b[0m         \u001b[38;5;28;01mreturn\u001b[39;00m app\n\u001b[0;32m     72\u001b[0m \u001b[38;5;28;01mif\u001b[39;00m name \u001b[38;5;241m==\u001b[39m _DEFAULT_APP_NAME:\n\u001b[1;32m---> 73\u001b[0m     \u001b[38;5;28;01mraise\u001b[39;00m \u001b[38;5;167;01mValueError\u001b[39;00m((\n\u001b[0;32m     74\u001b[0m         \u001b[38;5;124m'\u001b[39m\u001b[38;5;124mThe default Firebase app already exists. This means you called \u001b[39m\u001b[38;5;124m'\u001b[39m\n\u001b[0;32m     75\u001b[0m         \u001b[38;5;124m'\u001b[39m\u001b[38;5;124minitialize_app() more than once without providing an app name as \u001b[39m\u001b[38;5;124m'\u001b[39m\n\u001b[0;32m     76\u001b[0m         \u001b[38;5;124m'\u001b[39m\u001b[38;5;124mthe second argument. In most cases you only need to call \u001b[39m\u001b[38;5;124m'\u001b[39m\n\u001b[0;32m     77\u001b[0m         \u001b[38;5;124m'\u001b[39m\u001b[38;5;124minitialize_app() once. But if you do want to initialize multiple \u001b[39m\u001b[38;5;124m'\u001b[39m\n\u001b[0;32m     78\u001b[0m         \u001b[38;5;124m'\u001b[39m\u001b[38;5;124mapps, pass a second argument to initialize_app() to give each app \u001b[39m\u001b[38;5;124m'\u001b[39m\n\u001b[0;32m     79\u001b[0m         \u001b[38;5;124m'\u001b[39m\u001b[38;5;124ma unique name.\u001b[39m\u001b[38;5;124m'\u001b[39m))\n\u001b[0;32m     81\u001b[0m \u001b[38;5;28;01mraise\u001b[39;00m \u001b[38;5;167;01mValueError\u001b[39;00m((\n\u001b[0;32m     82\u001b[0m     \u001b[38;5;124m'\u001b[39m\u001b[38;5;124mFirebase app named \u001b[39m\u001b[38;5;124m\"\u001b[39m\u001b[38;5;132;01m{0}\u001b[39;00m\u001b[38;5;124m\"\u001b[39m\u001b[38;5;124m already exists. This means you called \u001b[39m\u001b[38;5;124m'\u001b[39m\n\u001b[0;32m     83\u001b[0m     \u001b[38;5;124m'\u001b[39m\u001b[38;5;124minitialize_app() more than once with the same app name as the \u001b[39m\u001b[38;5;124m'\u001b[39m\n\u001b[0;32m     84\u001b[0m     \u001b[38;5;124m'\u001b[39m\u001b[38;5;124msecond argument. Make sure you provide a unique name every time \u001b[39m\u001b[38;5;124m'\u001b[39m\n\u001b[0;32m     85\u001b[0m     \u001b[38;5;124m'\u001b[39m\u001b[38;5;124myou call initialize_app().\u001b[39m\u001b[38;5;124m'\u001b[39m)\u001b[38;5;241m.\u001b[39mformat(name))\n",
      "\u001b[1;31mValueError\u001b[0m: The default Firebase app already exists. This means you called initialize_app() more than once without providing an app name as the second argument. In most cases you only need to call initialize_app() once. But if you do want to initialize multiple apps, pass a second argument to initialize_app() to give each app a unique name."
     ]
    }
   ],
   "source": [
    "# initialize connection\n",
    "default_app = firebase_admin.initialize_app(cred_obj, {\n",
    "\t'databaseURL':DATABASE_URL\n",
    "\t})"
   ]
  },
  {
   "cell_type": "markdown",
   "metadata": {},
   "source": [
    "### Functions\n",
    "\n",
    "**get_time_stamp()** - returns a datetime of datetime.now()\n",
    "\n",
    "**send_to_firebase()** - formats the current data, updates to Firebase\n",
    "\n",
    "**on_x_changed(client, value)** - triggered when a new x axis value is sent to Arduino Cloud\n",
    "\n",
    "**on_y_changed(client, value)** - triggered when a new y axis value is sent to Arduino Cloud\n",
    "\n",
    "**on_z_changed(client, value)** - triggered when a new z axis value is sent to Arduino Cloud\n",
    "\n",
    "**waiting(secondsLeft)** - a recursive function that makes Python sleep for 1 second at a time\n",
    "\n",
    "**main()** - the main code executed"
   ]
  },
  {
   "cell_type": "code",
   "execution_count": 68,
   "metadata": {},
   "outputs": [],
   "source": [
    "def get_time_stamp() -> datetime:\n",
    "    # now stores current time\n",
    "    now: datetime = datetime.now()\n",
    "    # timeStamp stores timestamp of current time\n",
    "    timeStamp: datetime = now.timestamp()\n",
    "    return timeStamp"
   ]
  },
  {
   "cell_type": "code",
   "execution_count": 69,
   "metadata": {},
   "outputs": [],
   "source": [
    "\n",
    "def send_to_firebase():\n",
    "    timeStamp: datetime = get_time_stamp()\n",
    "    # for testing purposes\n",
    "    #print(f\"{timeStamp}: X: {xAxis}, Y: {yAxis}, Z: {zAxis}\") \n",
    "    # prepare data for sending to Firebase\n",
    "    newData = {\n",
    "        \"timestamp\": timeStamp, \n",
    "        \"x_axis\": xAxis, \n",
    "        \"y_axis\": yAxis, \n",
    "        \"z_axis\": zAxis\n",
    "    }\n",
    "\n",
    "    ref = db.reference(\"/Gyroscope\")\n",
    "    ref.push().update(newData)"
   ]
  },
  {
   "cell_type": "code",
   "execution_count": 70,
   "metadata": {},
   "outputs": [],
   "source": [
    "# Callback functions on change event.\n",
    "def on_x_changed(client, value: float) -> None:\n",
    "    global xAxis\n",
    "    xAxis = value\n",
    "\n",
    "def on_y_changed(client, value: float) -> None:\n",
    "    global yAxis\n",
    "    yAxis = value\n",
    "\n",
    "def on_z_changed(client, value: float) -> None:\n",
    "    global zAxis\n",
    "    zAxis = value"
   ]
  },
  {
   "cell_type": "code",
   "execution_count": 71,
   "metadata": {},
   "outputs": [],
   "source": [
    "def waiting(secondsLeft: int) -> None:\n",
    "    if secondsLeft > 0:\n",
    "        time.sleep(1)\n",
    "        waiting(secondsLeft - 1)"
   ]
  },
  {
   "cell_type": "code",
   "execution_count": 72,
   "metadata": {},
   "outputs": [],
   "source": [
    "def main():\n",
    "    print(\"Connect to Client\")\n",
    "    # register all axis value changes for on cloud sync\n",
    "    client = ArduinoCloudClient(\n",
    "        device_id=DEVICE_ID, \n",
    "        username=DEVICE_ID, \n",
    "        password=SECRET_KEY\n",
    "    )\n",
    "    client.register(\"x_ax\", value=None, on_write=on_x_changed)\n",
    "    client.register(\"y_ax\", value=None, on_write=on_y_changed)\n",
    "    client.register(\"z_ax\", value=None, on_write=on_z_changed)\n",
    "    # start cloud client\n",
    "    client.start()\n",
    "    \n",
    "    # get reference to Firebase Data\n",
    "    # create a folder for Gyroscope\n",
    "    ref = db.reference(\"/\")\n",
    "    ref.set({\n",
    "        \"Gyroscope\": -1\n",
    "    })\n",
    "    # get reference for new Gyroscope folder\n",
    "    ref = db.reference(\"/Gyroscope\")\n",
    "    \n",
    "    \"\"\"\n",
    "    While totalRunTime is less than SHUTDOWN_TIME:\n",
    "        upload the current x, y, and z axis variables to Firebase\n",
    "        wait for 1 second\n",
    "    \"\"\"\n",
    "    totalRunTime: int = 0\n",
    "    \n",
    "    while totalRunTime < (SHUTDOWN_TIME):\n",
    "        # wait for new data, we know it will happen every 1 second\n",
    "        waiting(SLEEP_TIME)\n",
    "        # add the waiting time to the total run time\n",
    "        totalRunTime += SLEEP_TIME\n",
    "        send_to_firebase()\n"
   ]
  },
  {
   "cell_type": "markdown",
   "metadata": {},
   "source": [
    "### Main Block"
   ]
  },
  {
   "cell_type": "code",
   "execution_count": 73,
   "metadata": {},
   "outputs": [
    {
     "name": "stdout",
     "output_type": "stream",
     "text": [
      "Connect to Client\n"
     ]
    }
   ],
   "source": [
    "if __name__ == \"__main__\":\n",
    "    try:\n",
    "        main()  # main function which runs in an internal infinite loop\n",
    "    except:\n",
    "        exc_type, exc_value, exc_traceback = sys.exc_info()\n",
    "        traceback.print_tb(exc_type, file=print)"
   ]
  },
  {
   "cell_type": "markdown",
   "metadata": {},
   "source": [
    "### Gather data from Firebase and place into CSV"
   ]
  },
  {
   "cell_type": "code",
   "execution_count": 76,
   "metadata": {},
   "outputs": [
    {
     "name": "stdout",
     "output_type": "stream",
     "text": [
      "{'Gyroscope': {'-O3kdTkFDdfeJ-W6niOU': {'timestamp': 1723098066.70246, 'x_axis': 1, 'y_axis': 1, 'z_axis': 1}, '-O3kdU5owU9y4OkIGC-D': {'timestamp': 1723098068.149589, 'x_axis': 1, 'y_axis': 1, 'z_axis': 1}, '-O3kdUSWJpgAAbEfqB2P': {'timestamp': 1723098069.600107, 'x_axis': 1, 'y_axis': 1, 'z_axis': 1}, '-O3kdUo8LdQSQtBDUclv': {'timestamp': 1723098071.049055, 'x_axis': 1, 'y_axis': 1, 'z_axis': 1}, '-O3kdV9z8Nbwrf_EH7FZ': {'timestamp': 1723098072.49808, 'x_axis': 1, 'y_axis': 1, 'z_axis': 1}, '-O3kdVWgj3S-kqNr3Wrk': {'timestamp': 1723098073.965309, 'x_axis': 1, 'y_axis': 1, 'z_axis': 1}, '-O3kdVsXvwZWI9MGVxk9': {'timestamp': 1723098075.421988, 'x_axis': 1, 'y_axis': 1, 'z_axis': 1}, '-O3kdWEEY3vL6hfs2vtM': {'timestamp': 1723098076.877298, 'x_axis': 1, 'y_axis': 1, 'z_axis': 1}}}\n"
     ]
    }
   ],
   "source": [
    "# retrieve data from Firebase\n",
    "ref = db.reference(\"/\")\n",
    "all_data = ref.get()"
   ]
  },
  {
   "cell_type": "code",
   "execution_count": 93,
   "metadata": {},
   "outputs": [],
   "source": [
    "# add firebase data to a list ready for json file\n",
    "gyro_list = []\n",
    "\n",
    "for i, value in all_data.items():\n",
    "    for key, data in value.items():\n",
    "        gyro_list.append(data)"
   ]
  },
  {
   "cell_type": "code",
   "execution_count": 94,
   "metadata": {},
   "outputs": [
    {
     "name": "stdout",
     "output_type": "stream",
     "text": [
      "New JSON file created\n"
     ]
    }
   ],
   "source": [
    "# check if json file exists\n",
    "pathExists = (os.path.isfile(GYROSCOPE_JSON))\n",
    "if pathExists == False:\n",
    "    # create a csv file\n",
    "    with open(os.path.join('', GYROSCOPE_JSON), 'w', newline='') as csvFile:\n",
    "        print(\"New JSON file created\")\n",
    "# enter data into json file\n",
    "with open(GYROSCOPE_JSON, 'w', encoding='utf-8') as f:\n",
    "    json.dump(gyro_list, f, ensure_ascii=False, indent=4)"
   ]
  },
  {
   "cell_type": "code",
   "execution_count": 95,
   "metadata": {},
   "outputs": [
    {
     "name": "stdout",
     "output_type": "stream",
     "text": [
      "New CSV file created\n"
     ]
    }
   ],
   "source": [
    "# check if csv file exists\n",
    "pathExists = (os.path.isfile(GYROSCOPE_CSV))\n",
    "if pathExists == False:\n",
    "    # create a csv file\n",
    "    with open(GYROSCOPE_CSV, 'w', newline='') as csvFile:\n",
    "        writer = csv.DictWriter(csvFile, fieldnames = FIELDS)\n",
    "        writer.writeheader()\n",
    "        print(\"New CSV file created\")\n",
    "\n",
    "# enter data from json file to csv file\n",
    "df = pd.read_json(GYROSCOPE_JSON)\n",
    "df.to_csv(GYROSCOPE_CSV, encoding='utf-8', index=False)"
   ]
  },
  {
   "cell_type": "markdown",
   "metadata": {},
   "source": [
    "### Clear Firebase Data"
   ]
  },
  {
   "cell_type": "code",
   "execution_count": 51,
   "metadata": {},
   "outputs": [],
   "source": [
    "ref = db.reference(\"/Gyroscope\")\n",
    "ref.set({})"
   ]
  },
  {
   "cell_type": "markdown",
   "metadata": {},
   "source": [
    "### Clear JSON and CSV files"
   ]
  },
  {
   "cell_type": "code",
   "execution_count": 96,
   "metadata": {},
   "outputs": [
    {
     "name": "stdout",
     "output_type": "stream",
     "text": [
      "CSV File Emptied\n",
      "JSON File Emptied\n"
     ]
    }
   ],
   "source": [
    "# check if csv file exists\n",
    "pathExists = (os.path.isfile(GYROSCOPE_CSV))\n",
    "if pathExists == True:\n",
    "    # clear a csv file\n",
    "    with open(GYROSCOPE_CSV, 'w', newline='') as csvFile:\n",
    "        print(\"CSV File Emptied\") \n",
    "\n",
    "\n",
    "# check if json file exists\n",
    "pathExists = (os.path.isfile(GYROSCOPE_JSON))\n",
    "if pathExists == True:\n",
    "    # clear a csv file\n",
    "    with open(GYROSCOPE_JSON, 'w', newline='') as jsonFile:\n",
    "        print(\"JSON File Emptied\") \n"
   ]
  },
  {
   "cell_type": "markdown",
   "metadata": {},
   "source": [
    "### Delete JSON and CSV files"
   ]
  },
  {
   "cell_type": "code",
   "execution_count": 97,
   "metadata": {},
   "outputs": [
    {
     "name": "stdout",
     "output_type": "stream",
     "text": [
      "CSV File Deleted\n",
      "JSON File Deleted\n"
     ]
    }
   ],
   "source": [
    "# delete CSV file\n",
    "file = GYROSCOPE_CSV\n",
    "if(os.path.exists(file) and os.path.isfile(file)): \n",
    "    os.remove(file) \n",
    "    print(\"CSV File Deleted\") \n",
    "else: \n",
    "    print(\"CSV File Not Found\") \n",
    "\n",
    "# delete JSON file\n",
    "file = GYROSCOPE_JSON\n",
    "if(os.path.exists(file) and os.path.isfile(file)): \n",
    "    os.remove(file) \n",
    "    print(\"JSON File Deleted\") \n",
    "else: \n",
    "    print(\"JSON File Not Found\") "
   ]
  },
  {
   "cell_type": "markdown",
   "metadata": {},
   "source": []
  }
 ],
 "metadata": {
  "kernelspec": {
   "display_name": "Python 3 (ipykernel)",
   "language": "python",
   "name": "python3"
  },
  "language_info": {
   "codemirror_mode": {
    "name": "ipython",
    "version": 3
   },
   "file_extension": ".py",
   "mimetype": "text/x-python",
   "name": "python",
   "nbconvert_exporter": "python",
   "pygments_lexer": "ipython3",
   "version": "3.12.4"
  }
 },
 "nbformat": 4,
 "nbformat_minor": 4
}
